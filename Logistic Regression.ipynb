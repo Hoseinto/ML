{
 "cells": [
  {
   "cell_type": "markdown",
   "id": "79641d0e",
   "metadata": {},
   "source": [
    "# Logistic Regression \n",
    "\n",
    "- Here we gonna develope a classification model based on logistic regression\n",
    "- We will use COVID data and our Dependant variable will be \"mortality\""
   ]
  },
  {
   "cell_type": "code",
   "execution_count": 1,
   "id": "9ce3cae5",
   "metadata": {},
   "outputs": [],
   "source": [
    "import pandas as pd\n",
    "import numpy as np\n",
    "import matplotlib.pyplot as plt\n",
    "import scipy.optimize as opt\n",
    "from sklearn import preprocessing\n",
    "%matplotlib inline\n",
    "import pylab as pl"
   ]
  },
  {
   "cell_type": "markdown",
   "id": "6116e342",
   "metadata": {},
   "source": [
    "## 1) CSV to DataFrame"
   ]
  },
  {
   "cell_type": "code",
   "execution_count": 2,
   "id": "fe0cf2d6",
   "metadata": {},
   "outputs": [
    {
     "name": "stderr",
     "output_type": "stream",
     "text": [
      "C:\\Users\\Hossein Toreyhi\\AppData\\Local\\Temp\\ipykernel_11464\\320169126.py:1: DtypeWarning: Columns (5,9,12,13,14,18,19,20,24,25,32,33,36,37,41,44,45,48,49,50,52,53,54,56,57,58,59,61,63,64,65,69,74,76,78,79,81,83,84,85,86,87,88,90,93,94,95,96,97,98,99,100,102,103,104,105,106,107,108,109,110,113,114,116,117,119,120,122,123,124,125,126,127,128,129,130,131,132,133,134,135,136,137,138,139,140,141,142,143,144,145,146,147,148,149,153,157,158,159,160,161,162,163,164,165,166,167,168,169,170,171,172,173,174,175,176,177,178,179,180,181,182,183,184,185,186,187,188,189,190,191,193,194,195,196,198,199,200,201,202,203,204,205,206,207,208,209,210,211,212,213,214,215,216,217,218,219,220,221,222,223,224,225,226,227,228,229,230,231,232,233,234,235,236,237,238,243,244,245,246,247,248,249,250,251,252,253,254,255,256,257,258,259,260,261,262,263,264,265,266,267,268,269,270,271,272,273,274,275,276,277,279,280,281,282,283,284,285,287,288,289,290,291,292,293,295,296,297,298,299,300,301,305,306,307,308,310,311,312,313,314,315,316,317,318,321,322,323,324,326,327) have mixed types. Specify dtype option on import or set low_memory=False.\n",
      "  Data = pd.read_csv (\"COVID.csv\")\n"
     ]
    },
    {
     "data": {
      "text/html": [
       "<div>\n",
       "<style scoped>\n",
       "    .dataframe tbody tr th:only-of-type {\n",
       "        vertical-align: middle;\n",
       "    }\n",
       "\n",
       "    .dataframe tbody tr th {\n",
       "        vertical-align: top;\n",
       "    }\n",
       "\n",
       "    .dataframe thead th {\n",
       "        text-align: right;\n",
       "    }\n",
       "</style>\n",
       "<table border=\"1\" class=\"dataframe\">\n",
       "  <thead>\n",
       "    <tr style=\"text-align: right;\">\n",
       "      <th></th>\n",
       "      <th>Patient_Number</th>\n",
       "      <th>Patient_Phase</th>\n",
       "      <th>Patient_Hospital</th>\n",
       "      <th>Patient_AdmitDate</th>\n",
       "      <th>Patient_DischargeDate</th>\n",
       "      <th>Patient_C19Variant</th>\n",
       "      <th>Outcome_InhospitalMortality</th>\n",
       "      <th>Outcome_LOS</th>\n",
       "      <th>Outcome_ICUadmission</th>\n",
       "      <th>Outcome_ICULOS</th>\n",
       "      <th>...</th>\n",
       "      <th>LAB_TotalProtein_First</th>\n",
       "      <th>LAB_TSH_First</th>\n",
       "      <th>LAB_T4_First</th>\n",
       "      <th>LAB_T3_First</th>\n",
       "      <th>LAB_VitD3_First</th>\n",
       "      <th>LAB_Zinc_y_First</th>\n",
       "      <th>LAB_IgM_First</th>\n",
       "      <th>LAB_IgG_First</th>\n",
       "      <th>LAB_SARSCOV2Egene_First</th>\n",
       "      <th>LAB_SARSCOV2RDRP_First</th>\n",
       "    </tr>\n",
       "  </thead>\n",
       "  <tbody>\n",
       "    <tr>\n",
       "      <th>0</th>\n",
       "      <td>1</td>\n",
       "      <td>Phase 2</td>\n",
       "      <td>Hospital1</td>\n",
       "      <td>1400/05/21</td>\n",
       "      <td>NaN</td>\n",
       "      <td>Delta</td>\n",
       "      <td>Died</td>\n",
       "      <td>30.0</td>\n",
       "      <td>1</td>\n",
       "      <td>25</td>\n",
       "      <td>...</td>\n",
       "      <td>NaN</td>\n",
       "      <td>NaN</td>\n",
       "      <td>NaN</td>\n",
       "      <td>NaN</td>\n",
       "      <td>11.2</td>\n",
       "      <td>NaN</td>\n",
       "      <td>NaN</td>\n",
       "      <td>NaN</td>\n",
       "      <td>Positive</td>\n",
       "      <td>Positive CT:28.5</td>\n",
       "    </tr>\n",
       "    <tr>\n",
       "      <th>1</th>\n",
       "      <td>2</td>\n",
       "      <td>Phase 2</td>\n",
       "      <td>Hospital1</td>\n",
       "      <td>1400/05/29</td>\n",
       "      <td>NaN</td>\n",
       "      <td>Delta</td>\n",
       "      <td>Died</td>\n",
       "      <td>19.0</td>\n",
       "      <td>1</td>\n",
       "      <td>15</td>\n",
       "      <td>...</td>\n",
       "      <td>NaN</td>\n",
       "      <td>NaN</td>\n",
       "      <td>NaN</td>\n",
       "      <td>NaN</td>\n",
       "      <td>NaN</td>\n",
       "      <td>NaN</td>\n",
       "      <td>NaN</td>\n",
       "      <td>NaN</td>\n",
       "      <td>Positive</td>\n",
       "      <td>Positive CT:18.0</td>\n",
       "    </tr>\n",
       "    <tr>\n",
       "      <th>2</th>\n",
       "      <td>3</td>\n",
       "      <td>Phase 2</td>\n",
       "      <td>Hospital1</td>\n",
       "      <td>1400/06/17</td>\n",
       "      <td>NaN</td>\n",
       "      <td>Delta</td>\n",
       "      <td>Died</td>\n",
       "      <td>12.0</td>\n",
       "      <td>1</td>\n",
       "      <td>11</td>\n",
       "      <td>...</td>\n",
       "      <td>NaN</td>\n",
       "      <td>NaN</td>\n",
       "      <td>NaN</td>\n",
       "      <td>NaN</td>\n",
       "      <td>39.9</td>\n",
       "      <td>NaN</td>\n",
       "      <td>NaN</td>\n",
       "      <td>NaN</td>\n",
       "      <td>NaN</td>\n",
       "      <td>NaN</td>\n",
       "    </tr>\n",
       "    <tr>\n",
       "      <th>3</th>\n",
       "      <td>4</td>\n",
       "      <td>Phase 2</td>\n",
       "      <td>Hospital1</td>\n",
       "      <td>1400/02/04</td>\n",
       "      <td>NaN</td>\n",
       "      <td>NaN</td>\n",
       "      <td>Survived</td>\n",
       "      <td>18.0</td>\n",
       "      <td>1</td>\n",
       "      <td>9</td>\n",
       "      <td>...</td>\n",
       "      <td>NaN</td>\n",
       "      <td>NaN</td>\n",
       "      <td>NaN</td>\n",
       "      <td>NaN</td>\n",
       "      <td>NaN</td>\n",
       "      <td>NaN</td>\n",
       "      <td>NaN</td>\n",
       "      <td>NaN</td>\n",
       "      <td>Positive</td>\n",
       "      <td>Positive CT:20.9</td>\n",
       "    </tr>\n",
       "    <tr>\n",
       "      <th>4</th>\n",
       "      <td>5</td>\n",
       "      <td>Phase 2</td>\n",
       "      <td>Hospital1</td>\n",
       "      <td>1400/02/04</td>\n",
       "      <td>NaN</td>\n",
       "      <td>NaN</td>\n",
       "      <td>Survived</td>\n",
       "      <td>18.0</td>\n",
       "      <td>1</td>\n",
       "      <td>9</td>\n",
       "      <td>...</td>\n",
       "      <td>NaN</td>\n",
       "      <td>NaN</td>\n",
       "      <td>NaN</td>\n",
       "      <td>NaN</td>\n",
       "      <td>NaN</td>\n",
       "      <td>NaN</td>\n",
       "      <td>NaN</td>\n",
       "      <td>NaN</td>\n",
       "      <td>Positive</td>\n",
       "      <td>Positive CT:20.9</td>\n",
       "    </tr>\n",
       "  </tbody>\n",
       "</table>\n",
       "<p>5 rows × 330 columns</p>\n",
       "</div>"
      ],
      "text/plain": [
       "   Patient_Number Patient_Phase Patient_Hospital Patient_AdmitDate  \\\n",
       "0               1       Phase 2        Hospital1        1400/05/21   \n",
       "1               2       Phase 2        Hospital1        1400/05/29   \n",
       "2               3       Phase 2        Hospital1        1400/06/17   \n",
       "3               4       Phase 2        Hospital1        1400/02/04   \n",
       "4               5       Phase 2        Hospital1        1400/02/04   \n",
       "\n",
       "  Patient_DischargeDate Patient_C19Variant Outcome_InhospitalMortality  \\\n",
       "0                   NaN              Delta                        Died   \n",
       "1                   NaN              Delta                        Died   \n",
       "2                   NaN              Delta                        Died   \n",
       "3                   NaN                NaN                    Survived   \n",
       "4                   NaN                NaN                    Survived   \n",
       "\n",
       "   Outcome_LOS  Outcome_ICUadmission Outcome_ICULOS  ...  \\\n",
       "0         30.0                     1             25  ...   \n",
       "1         19.0                     1             15  ...   \n",
       "2         12.0                     1             11  ...   \n",
       "3         18.0                     1              9  ...   \n",
       "4         18.0                     1              9  ...   \n",
       "\n",
       "   LAB_TotalProtein_First LAB_TSH_First LAB_T4_First LAB_T3_First  \\\n",
       "0                     NaN           NaN          NaN          NaN   \n",
       "1                     NaN           NaN          NaN          NaN   \n",
       "2                     NaN           NaN          NaN          NaN   \n",
       "3                     NaN           NaN          NaN          NaN   \n",
       "4                     NaN           NaN          NaN          NaN   \n",
       "\n",
       "  LAB_VitD3_First  LAB_Zinc_y_First  LAB_IgM_First  LAB_IgG_First  \\\n",
       "0            11.2               NaN            NaN            NaN   \n",
       "1             NaN               NaN            NaN            NaN   \n",
       "2            39.9               NaN            NaN            NaN   \n",
       "3             NaN               NaN            NaN            NaN   \n",
       "4             NaN               NaN            NaN            NaN   \n",
       "\n",
       "  LAB_SARSCOV2Egene_First LAB_SARSCOV2RDRP_First  \n",
       "0                Positive       Positive CT:28.5  \n",
       "1                Positive       Positive CT:18.0  \n",
       "2                     NaN                    NaN  \n",
       "3                Positive       Positive CT:20.9  \n",
       "4                Positive       Positive CT:20.9  \n",
       "\n",
       "[5 rows x 330 columns]"
      ]
     },
     "execution_count": 2,
     "metadata": {},
     "output_type": "execute_result"
    }
   ],
   "source": [
    "Data = pd.read_csv (\"COVID.csv\")\n",
    "Data.head ()"
   ]
  },
  {
   "cell_type": "markdown",
   "id": "7196b0c3",
   "metadata": {},
   "source": [
    "## 2) Let's make Data smaller\n",
    "\n",
    "- I need a smaller dataframe consist of X,Y\n",
    "- unlike previous code, I'm going to evolve and chose my favourite columns here"
   ]
  },
  {
   "cell_type": "code",
   "execution_count": 3,
   "id": "ca196118",
   "metadata": {
    "scrolled": true
   },
   "outputs": [
    {
     "name": "stdout",
     "output_type": "stream",
     "text": [
      "['Patient_Number', 'Patient_Phase', 'Patient_Hospital', 'Patient_AdmitDate', 'Patient_DischargeDate', 'Patient_C19Variant', 'Outcome_InhospitalMortality', 'Outcome_LOS', 'Outcome_ICUadmission', 'Outcome_ICULOS', 'Demographic_Age', 'Demographic_Gender', 'Demographic_Height ', 'Demographic_Weight', 'symtpm_to_referral', 'Symptom_Caugh', 'Symptom_Dyspnea', 'Symptom_Fever', 'Symptom_Chiver', 'Symptom_Mylagia', 'Symptom_Weakness', 'Symptom_LOC', 'Symptom_Sore through', 'Symptom_Rhinorrhea', 'Symptom_Smelling disorder', 'Symptom_nauseaVomit', 'Symptom_Anorexia', 'Symptom_Diarhhea', 'Symptom_ChestPain', 'Symptom_Seizure', 'Symptom_SkinLesion', 'Symptom_Jointpain', 'Symptom_Headache', 'Symptom_AbdominalPain', 'Symptom_Earpain', 'Symptom_Hemorrhasia', 'Symptom_Hemiparesia', 'MH_Pregcy', 'Symptom_Other symptoms', 'MH_CurremtSmoker', 'MH_Alcoholuser', 'MH_Opiumuser', 'MH_Hookahuser', 'MH_Otherdiseases', 'MH_HTN', 'MH_IHD', 'MH_CABG', 'MH_CHF', 'MH_Ashtma', 'MH_COPD', 'MH_DM', 'MH_Pneumonia', 'MH_CVA', 'MH_GIdisorder', 'MH_CKD', 'MH_RA', 'Cancer', 'MH_HLP', 'MH_Hep C', 'MH_Thyroid dysfunction', 'MH_Immunocompromised', 'MH_ChronicSeizure', 'MH_TB', 'MH_Anemia', 'MH_Fattyliver', 'MH_Psychologicaldisorder', 'MH_Parkinson', 'MH_Alzhimer', 'VS_O2satwithoutsupp', 'VS_O2satwithsupp', 'VS_PR', 'VS_diastolic BP', 'VS_Systolic BP', 'VS_RR', 'VS_T', 'TM_S_Dialysis', 'TM_S_Wholeblood', 'TM_S_FFP/Platelet', 'TM_S_Intubation', 'TM_S_Plasmapheresis', 'TM_amantadin', 'TM_ASA', 'TM_atazonavir', 'TM_Atorvastatin', 'TM_Atrovent', 'TM_Azithromycin', 'TM_Bromhexine', 'TM_CaCo3', 'TM_Ceftriaxone', 'TM_Celexan', 'TM_Cilindamycin', 'TM_Ciprofloxacine', 'TM_ClidiniumC', 'TM_Combivent', 'TM_Dexamethasone', 'TM_Dextromethorphan', 'TM_Dimenhydranate', 'TM_Diphenhydramin', 'TM_Fluconazole', 'TM_Heparin', 'TM_hidroxycholoriquine', 'TM_imipenem', 'TM_Interferon', 'TM_kaletra', 'TM_Levofluxacin', 'TM_Linezolid', 'TM_Meropenem', 'TM_MgSo4', 'TM_NAC', 'TM_Ondancetrone', 'TM_oseltamivir', 'TM_piperacillin', 'TM_Plasil', 'TM_Plavix', 'TM_Prednisolone', 'TM_Promethazine', 'TM_Pulmi', 'TM_Ranitidin', 'TM_Remdesivir', 'TM_Ribavirin', 'TM_Salb', 'TM_Selenium', 'TM_Serflow', 'TM_sovodac', 'TM_Vanco', 'TM_VitB', 'TM_VitC', 'TM_VitD', 'TM_pantazole ', 'TM_concor(bisoprolo)', 'TM_amilodiopine', 'TM_Aldactone', 'TM_lactalose ', 'TM_carvidolol ', 'TM_fentanyl ', 'TM_apotel', 'TM_Zinc', 'TM_Insuline', 'TM_lasix', 'TM_Hematinic', 'TM_albumin', 'TM_Actemra(Tocalizumab)', 'TM_concor(bisoprolol)', 'TM_colchicine', 'TM_Favipravir', 'TM_Famotidibe', 'TM_IVIG', 'TM_losartan', 'TM_metformin', 'TM_Melatonin', 'TM_OtherTreatment1', 'TM_OtherTreatment2', 'Extractor two first letter', 'Vaccine_YEsNO (0/1)', 'Vaccine_NumberofDoses', 'Vaccine_Type', 'VaccinatedC19infect_intervalday', 'LAB_WBC_1', 'LAB_WBC_2', 'LAB_WBC_3', 'LAB_WBC_4', 'LAB_WBC_5', 'LAB_WBC_6', 'LAB_WBC_Final', 'LAB_LYMPHH_1', 'LAB_LYMPHH_2', 'LAB_LYMPHH_3', 'LAB_LYMPHH_4', 'LAB_LYMPHH_5', 'LAB_LYMPHH_6', 'LAB_LYMPHH_Final', 'LAB_NEUT_1', 'LAB_NEUT_2', 'LAB_NEUT_3', 'LAB_NEUT_4', 'LAB_NEUT_5', 'LAB_NEUT_6', 'LAB_NEUT_Final', 'LAB_PLT_1', 'LAB_PLT_2', 'LAB_PLT_3', 'LAB_PLT_4', 'LAB_PLT_5', 'LAB_PLT_6', 'LAB_PLT_Final', 'LAB_HB_1', 'LAB_HB_2', 'LAB_HB_3', 'LAB_HB_4', 'LAB_HB_5', 'LAB_HB_6', 'LAB_HB_Final', 'LAB_MCV_1', 'LAB_MCV_2', 'LAB_MCV_3', 'LAB_MCV_4', 'LAB_MCV_5', 'LAB_MCV_6', 'LAB_MCV_Final', 'LAB_BUN_1', 'LAB_BUN_2', 'LAB_BUN_3', 'LAB_BUN_4', 'LAB_BUN_5', 'LAB_BUN_6', 'LAB_BUN_Final', 'LAB_CR_1', 'LAB_CR_2', 'LAB_CR_3', 'LAB_CR_4', 'LAB_CR_5', 'LAB_CR_6', 'LAB_CR_Final', 'LAB_NA_First', 'LAB_NA_Final', 'LAB_K_First', 'LAB_K_Final', 'LAB_CA_First', 'LAB_MG_First', 'LAB_P_First', 'LAB_AST_1', 'LAB_AST_2', 'LAB_AST_3', 'LAB_AST_4', 'LAB_AST_5', 'LAB_AST_6', 'LAB_AST_Final', 'LAB_ALT_1', 'LAB_ALT_2', 'LAB_ALT_3', 'LAB_ALT_4', 'LAB_ALT_5', 'LAB_ALT_6', 'LAB_ALT_Final', 'LAB_ALKP_First', 'LAB_BILLT_First', 'LAB_BILLD_First', 'LAB_AMYLASE_First', 'LAB_LIPASE_First', 'LAB_TG_First', 'LAB_CHOLESTROL_First', 'LAB_HDL_First', 'LAB_LDL_First', 'LAB_FBS_First', 'LAB_HBA1C_First', 'LAB_ALBUMIN_First', 'LAB_LDH_1', 'LAB_LDH_2', 'LAB_LDH_3', 'LAB_LDH_4', 'LAB_LDH_5', 'LAB_LDH_6', 'LAB_LDH_Final', 'LAB_CRP_1', 'LAB_CRP_2', 'LAB_CRP_3', 'LAB_CRP_4', 'LAB_CRP_5', 'LAB_CRP_6', 'LAB_CRP_Final', 'LAB_ESR_First', 'LAB_LACTATE_First', 'LAB_IL6_First', 'LAB_CPK_First', 'LAB_DDIMER_First', 'LAB_TROPONINE_First', 'LAB_CKMB_First', 'LAB_PROBNP_First', 'LAB_PROCALCITONIN_First', 'LAB_PTT_First', 'LAB_PT_First', 'LAB_INR_First', 'LAB_HBSAG_First', 'LAB_HBSAb_First', 'LAB_HBCAB_First', 'LAB_HCVAB_First', 'LAB_HIVAB_First', 'LAB_PH_First', 'LAB_PH_1', 'LAB_PH_2', 'LAB_PH_3', 'LAB_PH_4', 'LAB_PH_5', 'LAB_PH_6', 'LAB_PH_Final', 'LAB_PCO2_First', 'LAB_PCO2_1', 'LAB_PCO2_2', 'LAB_PCO2_3', 'LAB_PCO2_4', 'LAB_PCO2_5', 'LAB_PCO2_6', 'LAB_PCO2_Final', 'LAB_HCO3_First', 'LAB_HCO3_1', 'LAB_HCO3_2', 'LAB_HCO3_3', 'LAB_HCO3_4', 'LAB_HCO3_5', 'LAB_HCO3_6', 'LAB_HCO3_Final', 'LAB_BE_First', 'LAB_BE_1', 'LAB_BE_2', 'LAB_BE_3', 'LAB_BE_4', 'LAB_BE_5', 'LAB_BE_6', 'LAB_BE_Final', 'LAB_BloodGroupABO_First', 'LAB_BloodGroupRh_First', 'LAB_ANA_First', 'LAB_CANCA_First', 'LAB_PANCA_First', 'LAB_directCombs_First', 'LAB_indirectCombs_First', 'LAB_FDP_First', 'LAB_Fe_First', 'LAB_Ferritin_First', 'LAB_TIBC_First', 'LAB_TotalProtein_First', 'LAB_TSH_First', 'LAB_T4_First', 'LAB_T3_First', 'LAB_VitD3_First', 'LAB_Zinc_y_First', 'LAB_IgM_First', 'LAB_IgG_First', 'LAB_SARSCOV2Egene_First', 'LAB_SARSCOV2RDRP_First']\n"
     ]
    }
   ],
   "source": [
    "Data_columns = Data.columns.tolist()\n",
    "print (Data_columns)"
   ]
  },
  {
   "cell_type": "code",
   "execution_count": 4,
   "id": "4e3a42fa",
   "metadata": {
    "scrolled": true
   },
   "outputs": [
    {
     "data": {
      "text/html": [
       "<div>\n",
       "<style scoped>\n",
       "    .dataframe tbody tr th:only-of-type {\n",
       "        vertical-align: middle;\n",
       "    }\n",
       "\n",
       "    .dataframe tbody tr th {\n",
       "        vertical-align: top;\n",
       "    }\n",
       "\n",
       "    .dataframe thead th {\n",
       "        text-align: right;\n",
       "    }\n",
       "</style>\n",
       "<table border=\"1\" class=\"dataframe\">\n",
       "  <thead>\n",
       "    <tr style=\"text-align: right;\">\n",
       "      <th></th>\n",
       "      <th>Patient_Hospital</th>\n",
       "      <th>Outcome_InhospitalMortality</th>\n",
       "      <th>Demographic_Age</th>\n",
       "      <th>Demographic_Gender</th>\n",
       "      <th>Symptom_LOC</th>\n",
       "      <th>Symptom_ChestPain</th>\n",
       "      <th>MH_CurremtSmoker</th>\n",
       "      <th>MH_IHD</th>\n",
       "      <th>VS_O2satwithoutsupp</th>\n",
       "    </tr>\n",
       "  </thead>\n",
       "  <tbody>\n",
       "    <tr>\n",
       "      <th>0</th>\n",
       "      <td>Hospital1</td>\n",
       "      <td>Died</td>\n",
       "      <td>33.0</td>\n",
       "      <td>Male</td>\n",
       "      <td>0.0</td>\n",
       "      <td>0</td>\n",
       "      <td>0</td>\n",
       "      <td>0</td>\n",
       "      <td>80.0</td>\n",
       "    </tr>\n",
       "    <tr>\n",
       "      <th>1</th>\n",
       "      <td>Hospital1</td>\n",
       "      <td>Died</td>\n",
       "      <td>44.0</td>\n",
       "      <td>Male</td>\n",
       "      <td>0.0</td>\n",
       "      <td>1</td>\n",
       "      <td>0</td>\n",
       "      <td>0</td>\n",
       "      <td>77.0</td>\n",
       "    </tr>\n",
       "    <tr>\n",
       "      <th>2</th>\n",
       "      <td>Hospital1</td>\n",
       "      <td>Died</td>\n",
       "      <td>50.0</td>\n",
       "      <td>Male</td>\n",
       "      <td>0.0</td>\n",
       "      <td>0</td>\n",
       "      <td>1</td>\n",
       "      <td>0</td>\n",
       "      <td>60.0</td>\n",
       "    </tr>\n",
       "    <tr>\n",
       "      <th>3</th>\n",
       "      <td>Hospital1</td>\n",
       "      <td>Survived</td>\n",
       "      <td>71.0</td>\n",
       "      <td>Male</td>\n",
       "      <td>0.0</td>\n",
       "      <td>0</td>\n",
       "      <td>1</td>\n",
       "      <td>0</td>\n",
       "      <td>71.0</td>\n",
       "    </tr>\n",
       "    <tr>\n",
       "      <th>4</th>\n",
       "      <td>Hospital1</td>\n",
       "      <td>Survived</td>\n",
       "      <td>71.0</td>\n",
       "      <td>Male</td>\n",
       "      <td>0.0</td>\n",
       "      <td>0</td>\n",
       "      <td>1</td>\n",
       "      <td>0</td>\n",
       "      <td>71.0</td>\n",
       "    </tr>\n",
       "  </tbody>\n",
       "</table>\n",
       "</div>"
      ],
      "text/plain": [
       "  Patient_Hospital Outcome_InhospitalMortality  Demographic_Age  \\\n",
       "0        Hospital1                        Died             33.0   \n",
       "1        Hospital1                        Died             44.0   \n",
       "2        Hospital1                        Died             50.0   \n",
       "3        Hospital1                    Survived             71.0   \n",
       "4        Hospital1                    Survived             71.0   \n",
       "\n",
       "  Demographic_Gender  Symptom_LOC  Symptom_ChestPain  MH_CurremtSmoker MH_IHD  \\\n",
       "0               Male          0.0                  0                 0      0   \n",
       "1               Male          0.0                  1                 0      0   \n",
       "2               Male          0.0                  0                 1      0   \n",
       "3               Male          0.0                  0                 1      0   \n",
       "4               Male          0.0                  0                 1      0   \n",
       "\n",
       "   VS_O2satwithoutsupp  \n",
       "0                 80.0  \n",
       "1                 77.0  \n",
       "2                 60.0  \n",
       "3                 71.0  \n",
       "4                 71.0  "
      ]
     },
     "execution_count": 4,
     "metadata": {},
     "output_type": "execute_result"
    }
   ],
   "source": [
    "list_of_variables = ['Patient_Hospital', 'Outcome_InhospitalMortality', \n",
    "                     'Demographic_Age', 'Demographic_Gender',\n",
    "                     'Symptom_LOC','Symptom_ChestPain', 'MH_CurremtSmoker', 'MH_IHD','VS_O2satwithoutsupp']\n",
    "cdf = Data [list_of_variables]\n",
    "cdf.head ()"
   ]
  },
  {
   "cell_type": "markdown",
   "id": "b05960bf",
   "metadata": {},
   "source": [
    "## 3) Data cleaning\n",
    "\n",
    "- I just wanna clean data in the same code in order to tell everyone that data cleaning is the the most time consuming part of any programming\n",
    "- the imputation method for continious variables would be \"Model-based Imputation\""
   ]
  },
  {
   "cell_type": "code",
   "execution_count": 5,
   "id": "fb1d1eea",
   "metadata": {
    "scrolled": true
   },
   "outputs": [
    {
     "name": "stdout",
     "output_type": "stream",
     "text": [
      "Hospital1    4784\n",
      "Hospital3    1749\n",
      "Hospital2    1429\n",
      "Hospital4    1172\n",
      "Name: Patient_Hospital, dtype: int64\n",
      "Survived    7239\n",
      "Died        1816\n",
      "Unknown       79\n",
      "Name: Outcome_InhospitalMortality, dtype: int64\n",
      "50.000     205\n",
      "65.000     200\n",
      "60.000     192\n",
      "67.000     189\n",
      "62.000     184\n",
      "          ... \n",
      "798.000      1\n",
      "0.250        1\n",
      "9.000        1\n",
      "0.125        1\n",
      "0.170        1\n",
      "Name: Demographic_Age, Length: 103, dtype: int64\n",
      "Male      4942\n",
      "Female    4132\n",
      "1           35\n",
      "2           24\n",
      "0            1\n",
      "Name: Demographic_Gender, dtype: int64\n",
      "0.0    8404\n",
      "1.0     729\n",
      "Name: Symptom_LOC, dtype: int64\n",
      "0    8315\n",
      "1     819\n",
      "Name: Symptom_ChestPain, dtype: int64\n",
      "0    8679\n",
      "1     455\n",
      "Name: MH_CurremtSmoker, dtype: int64\n",
      "0    6113\n",
      "0    1782\n",
      "1     973\n",
      "1     265\n",
      "١       1\n",
      "Name: MH_IHD, dtype: int64\n",
      "90.0    654\n",
      "88.0    565\n",
      "92.0    526\n",
      "95.0    514\n",
      "93.0    499\n",
      "       ... \n",
      "42.0      1\n",
      "34.0      1\n",
      "87.5      1\n",
      "36.0      1\n",
      "37.0      1\n",
      "Name: VS_O2satwithoutsupp, Length: 76, dtype: int64\n",
      "Patient_Hospital                  0\n",
      "Outcome_InhospitalMortality       0\n",
      "Demographic_Age                   2\n",
      "Demographic_Gender                0\n",
      "Symptom_LOC                       1\n",
      "Symptom_ChestPain                 0\n",
      "MH_CurremtSmoker                  0\n",
      "MH_IHD                            0\n",
      "VS_O2satwithoutsupp            1741\n",
      "dtype: int64\n"
     ]
    }
   ],
   "source": [
    "for i in range (0, len (list_of_variables)):\n",
    "    print (cdf [list_of_variables[i]].value_counts())\n",
    "    \n",
    "missing_counts = cdf.isnull().sum()\n",
    "print(missing_counts)"
   ]
  },
  {
   "cell_type": "code",
   "execution_count": 6,
   "id": "dbe7b6a8",
   "metadata": {
    "scrolled": false
   },
   "outputs": [
    {
     "name": "stderr",
     "output_type": "stream",
     "text": [
      "C:\\Users\\Hossein Toreyhi\\AppData\\Local\\Temp\\ipykernel_11464\\1854485196.py:3: SettingWithCopyWarning: \n",
      "A value is trying to be set on a copy of a slice from a DataFrame\n",
      "\n",
      "See the caveats in the documentation: https://pandas.pydata.org/pandas-docs/stable/user_guide/indexing.html#returning-a-view-versus-a-copy\n",
      "  cdf.dropna(subset= [\"Patient_Hospital\"], inplace=True)\n",
      "C:\\Users\\Hossein Toreyhi\\AppData\\Local\\Temp\\ipykernel_11464\\1854485196.py:4: SettingWithCopyWarning: \n",
      "A value is trying to be set on a copy of a slice from a DataFrame.\n",
      "Try using .loc[row_indexer,col_indexer] = value instead\n",
      "\n",
      "See the caveats in the documentation: https://pandas.pydata.org/pandas-docs/stable/user_guide/indexing.html#returning-a-view-versus-a-copy\n",
      "  cdf [\"Patient_Hospital\"] = pd.factorize( cdf [\"Patient_Hospital\"])[0]\n",
      "C:\\Users\\Hossein Toreyhi\\AppData\\Local\\Temp\\ipykernel_11464\\1854485196.py:9: SettingWithCopyWarning: \n",
      "A value is trying to be set on a copy of a slice from a DataFrame.\n",
      "Try using .loc[row_indexer,col_indexer] = value instead\n",
      "\n",
      "See the caveats in the documentation: https://pandas.pydata.org/pandas-docs/stable/user_guide/indexing.html#returning-a-view-versus-a-copy\n",
      "  cdf [\"Outcome_InhospitalMortality\"] = cdf [\"Outcome_InhospitalMortality\"].replace(outcome_map)\n",
      "C:\\Users\\Hossein Toreyhi\\AppData\\Local\\Temp\\ipykernel_11464\\1854485196.py:10: SettingWithCopyWarning: \n",
      "A value is trying to be set on a copy of a slice from a DataFrame\n",
      "\n",
      "See the caveats in the documentation: https://pandas.pydata.org/pandas-docs/stable/user_guide/indexing.html#returning-a-view-versus-a-copy\n",
      "  cdf.dropna(subset= [\"Outcome_InhospitalMortality\"], inplace=True)\n"
     ]
    },
    {
     "name": "stdout",
     "output_type": "stream",
     "text": [
      "Patient_Hospital               0\n",
      "Outcome_InhospitalMortality    0\n",
      "Demographic_Age                0\n",
      "Demographic_Gender             0\n",
      "Symptom_LOC                    0\n",
      "Symptom_ChestPain              0\n",
      "MH_CurremtSmoker               0\n",
      "MH_IHD                         0\n",
      "VS_O2satwithoutsupp            0\n",
      "dtype: int64\n"
     ]
    },
    {
     "name": "stderr",
     "output_type": "stream",
     "text": [
      "C:\\Users\\Hossein Toreyhi\\AppData\\Local\\Temp\\ipykernel_11464\\1854485196.py:17: SettingWithCopyWarning: \n",
      "A value is trying to be set on a copy of a slice from a DataFrame.\n",
      "Try using .loc[row_indexer,col_indexer] = value instead\n",
      "\n",
      "See the caveats in the documentation: https://pandas.pydata.org/pandas-docs/stable/user_guide/indexing.html#returning-a-view-versus-a-copy\n",
      "  cdf[['Demographic_Age', 'VS_O2satwithoutsupp']] = imp.transform(cdf[['Demographic_Age', 'VS_O2satwithoutsupp']])\n",
      "C:\\Users\\Hossein Toreyhi\\AppData\\Local\\Temp\\ipykernel_11464\\1854485196.py:22: SettingWithCopyWarning: \n",
      "A value is trying to be set on a copy of a slice from a DataFrame.\n",
      "Try using .loc[row_indexer,col_indexer] = value instead\n",
      "\n",
      "See the caveats in the documentation: https://pandas.pydata.org/pandas-docs/stable/user_guide/indexing.html#returning-a-view-versus-a-copy\n",
      "  cdf [\"Demographic_Gender\"] = cdf [\"Demographic_Gender\"].replace(sex_map)\n",
      "C:\\Users\\Hossein Toreyhi\\AppData\\Local\\Temp\\ipykernel_11464\\1854485196.py:23: SettingWithCopyWarning: \n",
      "A value is trying to be set on a copy of a slice from a DataFrame\n",
      "\n",
      "See the caveats in the documentation: https://pandas.pydata.org/pandas-docs/stable/user_guide/indexing.html#returning-a-view-versus-a-copy\n",
      "  cdf.dropna(subset=[\"Demographic_Gender\"], inplace=True)\n",
      "C:\\Users\\Hossein Toreyhi\\AppData\\Local\\Temp\\ipykernel_11464\\1854485196.py:24: SettingWithCopyWarning: \n",
      "A value is trying to be set on a copy of a slice from a DataFrame.\n",
      "Try using .loc[row_indexer,col_indexer] = value instead\n",
      "\n",
      "See the caveats in the documentation: https://pandas.pydata.org/pandas-docs/stable/user_guide/indexing.html#returning-a-view-versus-a-copy\n",
      "  cdf [\"Demographic_Gender\"] = pd.factorize( cdf [\"Demographic_Gender\"])[0]\n",
      "C:\\Users\\Hossein Toreyhi\\AppData\\Local\\Temp\\ipykernel_11464\\1854485196.py:29: SettingWithCopyWarning: \n",
      "A value is trying to be set on a copy of a slice from a DataFrame.\n",
      "Try using .loc[row_indexer,col_indexer] = value instead\n",
      "\n",
      "See the caveats in the documentation: https://pandas.pydata.org/pandas-docs/stable/user_guide/indexing.html#returning-a-view-versus-a-copy\n",
      "  cdf [\"Symptom_LOC\"] = cdf [\"Symptom_LOC\"].astype (float)\n",
      "C:\\Users\\Hossein Toreyhi\\AppData\\Local\\Temp\\ipykernel_11464\\1854485196.py:30: SettingWithCopyWarning: \n",
      "A value is trying to be set on a copy of a slice from a DataFrame\n",
      "\n",
      "See the caveats in the documentation: https://pandas.pydata.org/pandas-docs/stable/user_guide/indexing.html#returning-a-view-versus-a-copy\n",
      "  cdf.dropna(subset=[\"Symptom_LOC\"], inplace=True)\n",
      "C:\\Users\\Hossein Toreyhi\\AppData\\Local\\Temp\\ipykernel_11464\\1854485196.py:34: SettingWithCopyWarning: \n",
      "A value is trying to be set on a copy of a slice from a DataFrame\n",
      "\n",
      "See the caveats in the documentation: https://pandas.pydata.org/pandas-docs/stable/user_guide/indexing.html#returning-a-view-versus-a-copy\n",
      "  cdf.dropna(subset=[\"Symptom_ChestPain\"], inplace=True)\n",
      "C:\\Users\\Hossein Toreyhi\\AppData\\Local\\Temp\\ipykernel_11464\\1854485196.py:35: SettingWithCopyWarning: \n",
      "A value is trying to be set on a copy of a slice from a DataFrame.\n",
      "Try using .loc[row_indexer,col_indexer] = value instead\n",
      "\n",
      "See the caveats in the documentation: https://pandas.pydata.org/pandas-docs/stable/user_guide/indexing.html#returning-a-view-versus-a-copy\n",
      "  cdf [\"Symptom_ChestPain\"] = cdf [\"Symptom_ChestPain\"].astype (float)\n",
      "C:\\Users\\Hossein Toreyhi\\AppData\\Local\\Temp\\ipykernel_11464\\1854485196.py:39: SettingWithCopyWarning: \n",
      "A value is trying to be set on a copy of a slice from a DataFrame\n",
      "\n",
      "See the caveats in the documentation: https://pandas.pydata.org/pandas-docs/stable/user_guide/indexing.html#returning-a-view-versus-a-copy\n",
      "  cdf.dropna(subset=[\"MH_CurremtSmoker\"], inplace=True)\n",
      "C:\\Users\\Hossein Toreyhi\\AppData\\Local\\Temp\\ipykernel_11464\\1854485196.py:40: SettingWithCopyWarning: \n",
      "A value is trying to be set on a copy of a slice from a DataFrame.\n",
      "Try using .loc[row_indexer,col_indexer] = value instead\n",
      "\n",
      "See the caveats in the documentation: https://pandas.pydata.org/pandas-docs/stable/user_guide/indexing.html#returning-a-view-versus-a-copy\n",
      "  cdf [\"MH_CurremtSmoker\"] = cdf [\"MH_CurremtSmoker\"].astype (float)\n",
      "C:\\Users\\Hossein Toreyhi\\AppData\\Local\\Temp\\ipykernel_11464\\1854485196.py:44: SettingWithCopyWarning: \n",
      "A value is trying to be set on a copy of a slice from a DataFrame\n",
      "\n",
      "See the caveats in the documentation: https://pandas.pydata.org/pandas-docs/stable/user_guide/indexing.html#returning-a-view-versus-a-copy\n",
      "  cdf.dropna(subset=[\"MH_IHD\"], inplace=True)\n",
      "C:\\Users\\Hossein Toreyhi\\AppData\\Local\\Temp\\ipykernel_11464\\1854485196.py:45: SettingWithCopyWarning: \n",
      "A value is trying to be set on a copy of a slice from a DataFrame.\n",
      "Try using .loc[row_indexer,col_indexer] = value instead\n",
      "\n",
      "See the caveats in the documentation: https://pandas.pydata.org/pandas-docs/stable/user_guide/indexing.html#returning-a-view-versus-a-copy\n",
      "  cdf [\"MH_IHD\"] = cdf [\"MH_IHD\"].astype (float)\n"
     ]
    }
   ],
   "source": [
    "# patient hospital\n",
    "\n",
    "cdf.dropna(subset= [\"Patient_Hospital\"], inplace=True)\n",
    "cdf [\"Patient_Hospital\"] = pd.factorize( cdf [\"Patient_Hospital\"])[0]\n",
    "\n",
    "# Outcome_InhospitalMortality\n",
    "\n",
    "outcome_map = {\"Survived\": 0, \"Died\" : 1 , \"Unknown\" : np.nan }\n",
    "cdf [\"Outcome_InhospitalMortality\"] = cdf [\"Outcome_InhospitalMortality\"].replace(outcome_map)\n",
    "cdf.dropna(subset= [\"Outcome_InhospitalMortality\"], inplace=True)\n",
    "\n",
    "# Demographic_Age and 'VS_O2satwithoutsupp'\n",
    "\n",
    "from sklearn.impute import SimpleImputer\n",
    "imp = SimpleImputer(missing_values=np.nan, strategy='mean')\n",
    "imp.fit(cdf [['Demographic_Age', 'VS_O2satwithoutsupp']])\n",
    "cdf[['Demographic_Age', 'VS_O2satwithoutsupp']] = imp.transform(cdf[['Demographic_Age', 'VS_O2satwithoutsupp']])\n",
    "\n",
    "# Demographic_Gender\n",
    "\n",
    "sex_map = {\"1\":\"Male\" , \"2\":\"Female\" , \"0\" : np.nan}\n",
    "cdf [\"Demographic_Gender\"] = cdf [\"Demographic_Gender\"].replace(sex_map)\n",
    "cdf.dropna(subset=[\"Demographic_Gender\"], inplace=True)\n",
    "cdf [\"Demographic_Gender\"] = pd.factorize( cdf [\"Demographic_Gender\"])[0]\n",
    "\n",
    "\n",
    "# Symptom_LOC\n",
    "\n",
    "cdf [\"Symptom_LOC\"] = cdf [\"Symptom_LOC\"].astype (float)\n",
    "cdf.dropna(subset=[\"Symptom_LOC\"], inplace=True)\n",
    "\n",
    "# Symptom_ChestPain\n",
    "\n",
    "cdf.dropna(subset=[\"Symptom_ChestPain\"], inplace=True)\n",
    "cdf [\"Symptom_ChestPain\"] = cdf [\"Symptom_ChestPain\"].astype (float)\n",
    "\n",
    "# MH_CurremtSmoker \n",
    "\n",
    "cdf.dropna(subset=[\"MH_CurremtSmoker\"], inplace=True)\n",
    "cdf [\"MH_CurremtSmoker\"] = cdf [\"MH_CurremtSmoker\"].astype (float)\n",
    "\n",
    "# MH_IHD\n",
    "\n",
    "cdf.dropna(subset=[\"MH_IHD\"], inplace=True)\n",
    "cdf [\"MH_IHD\"] = cdf [\"MH_IHD\"].astype (float)\n",
    "\n",
    "missing_counts = cdf.isnull().sum()\n",
    "print(missing_counts)"
   ]
  },
  {
   "cell_type": "markdown",
   "id": "0cc4b1cb",
   "metadata": {},
   "source": [
    "## 4) X,Y determination"
   ]
  },
  {
   "cell_type": "code",
   "execution_count": 7,
   "id": "0caae476",
   "metadata": {},
   "outputs": [],
   "source": [
    "x_list = ['Patient_Hospital', 'Demographic_Age', 'Demographic_Gender','Symptom_LOC',\n",
    "          'Symptom_ChestPain', 'MH_CurremtSmoker', 'MH_IHD','VS_O2satwithoutsupp']\n",
    "\n",
    "x = np.asarray (cdf [x_list])\n",
    "y = np.asarray (cdf ['Outcome_InhospitalMortality'])"
   ]
  },
  {
   "cell_type": "markdown",
   "id": "8e586d6b",
   "metadata": {},
   "source": [
    "## 5) Normalizing data"
   ]
  },
  {
   "cell_type": "code",
   "execution_count": 8,
   "id": "105b2350",
   "metadata": {},
   "outputs": [],
   "source": [
    "from sklearn import preprocessing\n",
    "x = preprocessing.StandardScaler().fit(x).transform(x)"
   ]
  },
  {
   "cell_type": "markdown",
   "id": "179d1490",
   "metadata": {},
   "source": [
    "## 6) Train/Test split"
   ]
  },
  {
   "cell_type": "code",
   "execution_count": 9,
   "id": "2685dba4",
   "metadata": {},
   "outputs": [],
   "source": [
    "from sklearn.model_selection import train_test_split\n",
    "x_train, x_test, y_train, y_test = train_test_split (x,y,test_size = 0.2, random_state = 4)"
   ]
  },
  {
   "cell_type": "markdown",
   "id": "fb15d2e7",
   "metadata": {},
   "source": [
    "## 7) Model training and tuning"
   ]
  },
  {
   "cell_type": "code",
   "execution_count": 10,
   "id": "a22c4525",
   "metadata": {},
   "outputs": [],
   "source": [
    "from sklearn.linear_model import LogisticRegression\n",
    "from sklearn.metrics import confusion_matrix\n",
    "LR = LogisticRegression(C=0.01, solver='liblinear').fit(x_train,y_train)\n",
    "y_hat = LR.predict(x_test)"
   ]
  },
  {
   "cell_type": "markdown",
   "id": "3fccba1f",
   "metadata": {},
   "source": [
    "## 8) Evaluation\n",
    "\n",
    "- there are various way to determine the presice of our model, let's see what we got\n",
    "\n",
    "### 8-1) Jaccard index:\n",
    "\n",
    "- The concept of Jaccard index has been explained in my notebook. To learn more contact : hoseinto@gmail.com\n"
   ]
  },
  {
   "cell_type": "code",
   "execution_count": 11,
   "id": "c58fd213",
   "metadata": {},
   "outputs": [
    {
     "data": {
      "text/plain": [
       "0.25055432372505543"
      ]
     },
     "execution_count": 11,
     "metadata": {},
     "output_type": "execute_result"
    }
   ],
   "source": [
    "from sklearn.metrics import jaccard_score\n",
    "\n",
    "# position label means Jaccard are going to be calculated for which one the values of the outcome variable.\n",
    "# you probably remember when I said we are going to predic (y=1  /x), now you undrestand the following items:  (y=pos_label  /x)\n",
    "jaccard_score(y_test, y_hat,pos_label=1)"
   ]
  },
  {
   "cell_type": "markdown",
   "id": "c6528875",
   "metadata": {},
   "source": [
    "### 8-2) Confusion matrix"
   ]
  },
  {
   "cell_type": "code",
   "execution_count": 12,
   "id": "edfd9c7f",
   "metadata": {
    "scrolled": true
   },
   "outputs": [
    {
     "name": "stdout",
     "output_type": "stream",
     "text": [
      "confusion matrix is : [[1360   63]\n",
      " [ 275  113]]\n"
     ]
    },
    {
     "data": {
      "image/png": "[encoded data removed]",
      "text/plain": [
       "<Figure size 576x432 with 2 Axes>"
      ]
     },
     "metadata": {
      "needs_background": "light"
     },
     "output_type": "display_data"
    }
   ],
   "source": [
    "from sklearn.metrics import confusion_matrix\n",
    "import seaborn as sns\n",
    "\n",
    "# plot (?) confusion matrix as numpy array\n",
    "\n",
    "cm = confusion_matrix(y_test, y_hat)\n",
    "print (\"confusion matrix is :\", cm)\n",
    "\n",
    "# plot\n",
    "\n",
    "plt.figure(figsize=(8, 6))\n",
    "sns.heatmap(cm, annot=True, fmt=\"d\", cmap=\"Blues\")\n",
    "plt.title(\"Confusion Matrix\")\n",
    "plt.xlabel(\"Predicted Labels\")\n",
    "plt.ylabel(\"True Labels\")\n",
    "plt.show()"
   ]
  },
  {
   "cell_type": "markdown",
   "id": "e082b82a",
   "metadata": {},
   "source": [
    "### 8-3) Other way to calculate confusion matrix :) "
   ]
  },
  {
   "cell_type": "code",
   "execution_count": 13,
   "id": "681efb4a",
   "metadata": {
    "scrolled": true
   },
   "outputs": [
    {
     "name": "stdout",
     "output_type": "stream",
     "text": [
      "Confusion matrix, without normalization\n",
      "[[ 113  275]\n",
      " [  63 1360]]\n"
     ]
    },
    {
     "data": {
      "image/png": "[encoded data removed]",
      "text/plain": [
       "<Figure size 432x288 with 2 Axes>"
      ]
     },
     "metadata": {
      "needs_background": "light"
     },
     "output_type": "display_data"
    }
   ],
   "source": [
    "from sklearn.metrics import confusion_matrix\n",
    "import itertools\n",
    "\n",
    "def plot_confusion_matrix(cm, classes,\n",
    "                          normalize=False,\n",
    "                          title='Confusion matrix',\n",
    "                          cmap=plt.cm.Blues):\n",
    "    \"\"\"\n",
    "    This function prints and plots the confusion matrix.\n",
    "    Normalization can be applied by setting `normalize=True`.\n",
    "    \"\"\"\n",
    "    if normalize:\n",
    "        cm = cm.astype('float') / cm.sum(axis=1)[:, np.newaxis]\n",
    "        print(\"Normalized confusion matrix\")\n",
    "    else:\n",
    "        print('Confusion matrix, without normalization')\n",
    "\n",
    "    print(cm)\n",
    "\n",
    "    plt.imshow(cm, interpolation='nearest', cmap=cmap)\n",
    "    plt.title(title)\n",
    "    plt.colorbar()\n",
    "    tick_marks = np.arange(len(classes))\n",
    "    plt.xticks(tick_marks, classes, rotation=45)\n",
    "    plt.yticks(tick_marks, classes)\n",
    "\n",
    "    fmt = '.2f' if normalize else 'd'\n",
    "    thresh = cm.max() / 2.\n",
    "    for i, j in itertools.product(range(cm.shape[0]), range(cm.shape[1])):\n",
    "        plt.text(j, i, format(cm[i, j], fmt),\n",
    "                 horizontalalignment=\"center\",\n",
    "                 color=\"white\" if cm[i, j] > thresh else \"black\")\n",
    "\n",
    "    plt.tight_layout()\n",
    "    plt.ylabel('True label')\n",
    "    plt.xlabel('Predicted label')\n",
    "\n",
    "cnf_matrix = confusion_matrix(y_test, y_hat, labels=[1,0])\n",
    "np.set_printoptions(precision=2)\n",
    "plt.figure()\n",
    "plot_confusion_matrix(cnf_matrix, classes=['1','0'],normalize= False,  title='Confusion matrix')"
   ]
  },
  {
   "cell_type": "markdown",
   "id": "1ecf0de9",
   "metadata": {},
   "source": [
    "### 8-4) F1-score, Precision, Recall \n",
    "\n",
    "- Precision is a measure of the accuracy provided that a class label has been predicted. It is defined by: precision = TP / (TP + FP)\n",
    "\n",
    "- Recall is the true positive rate. It is defined as: Recall =  TP / (TP + FN)\n",
    "\n",
    "\n",
    "- F1 score: Now we are in the position to calculate the F1 scores for each label based on the precision and recall of that label.\n",
    "\n",
    "The F1 score is the harmonic average of the precision and recall, where an F1 score reaches its best value at 1 (perfect precision and recall) and worst at 0. It is a good way to show that a classifer has a good value for both recall and precision."
   ]
  },
  {
   "cell_type": "code",
   "execution_count": 14,
   "id": "fccb6378",
   "metadata": {
    "scrolled": false
   },
   "outputs": [
    {
     "name": "stdout",
     "output_type": "stream",
     "text": [
      "              precision    recall  f1-score   support\n",
      "\n",
      "         0.0       0.83      0.96      0.89      1423\n",
      "         1.0       0.64      0.29      0.40       388\n",
      "\n",
      "    accuracy                           0.81      1811\n",
      "   macro avg       0.74      0.62      0.65      1811\n",
      "weighted avg       0.79      0.81      0.78      1811\n",
      "\n"
     ]
    }
   ],
   "source": [
    "from sklearn.metrics import classification_report\n",
    "print (classification_report(y_test, y_hat))"
   ]
  },
  {
   "cell_type": "markdown",
   "id": "c50826b6",
   "metadata": {},
   "source": [
    "### 8-5) LogLoss\n",
    "\n",
    "- Log loss( Logarithmic loss) measures the performance of a classifier where the predicted output is a probability value between 0 and 1."
   ]
  },
  {
   "cell_type": "code",
   "execution_count": 15,
   "id": "57e44d12",
   "metadata": {},
   "outputs": [
    {
     "data": {
      "text/plain": [
       "6.727087159316178"
      ]
     },
     "execution_count": 15,
     "metadata": {},
     "output_type": "execute_result"
    }
   ],
   "source": [
    "from sklearn.metrics import log_loss\n",
    "log_loss(y_test, y_hat)"
   ]
  }
 ],
 "metadata": {
  "kernelspec": {
   "display_name": "Python 3 (ipykernel)",
   "language": "python",
   "name": "python3"
  },
  "language_info": {
   "codemirror_mode": {
    "name": "ipython",
    "version": 3
   },
   "file_extension": ".py",
   "mimetype": "text/x-python",
   "name": "python",
   "nbconvert_exporter": "python",
   "pygments_lexer": "ipython3",
   "version": "3.10.4"
  }
 },
 "nbformat": 4,
 "nbformat_minor": 5
}
