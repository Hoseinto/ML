{
 "cells": [
  {
   "cell_type": "markdown",
   "id": "b10ddd8c",
   "metadata": {},
   "source": [
    "# KNN = K-nearest neighbor\n",
    "\n",
    "- Here is my first classification project\n",
    "- I'm going to use KNN to predict COVID mortality outcome\n",
    "- I don't suppose to share my database with you and final code is functional.\n",
    "- I'll share the link of article after publication with you."
   ]
  },
  {
   "cell_type": "code",
   "execution_count": 1,
   "id": "be27d05e",
   "metadata": {},
   "outputs": [],
   "source": [
    "import pandas as pd\n",
    "import numpy as np\n",
    "import matplotlib.pyplot as plt\n",
    "from sklearn import preprocessing"
   ]
  },
  {
   "cell_type": "markdown",
   "id": "20ec0714",
   "metadata": {},
   "source": [
    "## CSV to DataFrame"
   ]
  },
  {
   "cell_type": "code",
   "execution_count": 2,
   "id": "0107b73d",
   "metadata": {
    "scrolled": false
   },
   "outputs": [
    {
     "name": "stderr",
     "output_type": "stream",
     "text": [
      "C:\\Users\\Hossein Toreyhi\\AppData\\Local\\Temp\\ipykernel_14272\\320169126.py:1: DtypeWarning: Columns (5,9,12,13,14,15,16,17,18,19,20,24,25,32,33,36,37,41,44,45,48,49,50,52,53,54,56,57,58,59,61,63,64,65,69,74,76,78,79,81,83,84,85,86,87,88,90,93,94,95,96,97,98,99,100,102,103,104,105,106,107,108,109,110,113,114,116,117,119,120,122,123,124,125,126,127,128,129,130,131,132,133,134,135,136,137,138,139,140,141,142,143,144,145,146,147,148,149,153,157,158,159,160,161,162,163,164,165,166,167,168,169,170,171,172,173,174,175,176,177,178,179,180,181,182,183,184,185,186,187,188,189,190,191,193,194,195,196,198,199,200,201,202,203,204,205,206,207,208,209,210,211,212,213,214,215,216,217,218,219,220,221,222,223,224,225,226,227,228,229,230,231,232,233,234,235,236,237,238,243,244,245,246,247,248,249,250,251,252,253,254,255,256,257,258,259,260,261,262,263,264,265,266,267,268,269,270,271,272,273,274,275,276,277,279,280,281,282,283,284,285,287,288,289,290,291,292,293,295,296,297,298,299,300,301,305,306,307,308,310,311,312,313,314,315,316,317,318,321,322,323,324,326,327) have mixed types. Specify dtype option on import or set low_memory=False.\n",
      "  Data = pd.read_csv (\"COVID.csv\")\n"
     ]
    },
    {
     "data": {
      "text/html": [
       "<div>\n",
       "<style scoped>\n",
       "    .dataframe tbody tr th:only-of-type {\n",
       "        vertical-align: middle;\n",
       "    }\n",
       "\n",
       "    .dataframe tbody tr th {\n",
       "        vertical-align: top;\n",
       "    }\n",
       "\n",
       "    .dataframe thead th {\n",
       "        text-align: right;\n",
       "    }\n",
       "</style>\n",
       "<table border=\"1\" class=\"dataframe\">\n",
       "  <thead>\n",
       "    <tr style=\"text-align: right;\">\n",
       "      <th></th>\n",
       "      <th>Patient_Number</th>\n",
       "      <th>Patient_Phase</th>\n",
       "      <th>Patient_Hospital</th>\n",
       "      <th>Patient_AdmitDate</th>\n",
       "      <th>Patient_DischargeDate</th>\n",
       "      <th>Patient_C19Variant</th>\n",
       "      <th>Outcome_InhospitalMortality</th>\n",
       "      <th>Outcome_LOS</th>\n",
       "      <th>Outcome_ICUadmission</th>\n",
       "      <th>Outcome_ICULOS</th>\n",
       "      <th>...</th>\n",
       "      <th>LAB_TotalProtein_First</th>\n",
       "      <th>LAB_TSH_First</th>\n",
       "      <th>LAB_T4_First</th>\n",
       "      <th>LAB_T3_First</th>\n",
       "      <th>LAB_VitD3_First</th>\n",
       "      <th>LAB_Zinc_y_First</th>\n",
       "      <th>LAB_IgM_First</th>\n",
       "      <th>LAB_IgG_First</th>\n",
       "      <th>LAB_SARSCOV2Egene_First</th>\n",
       "      <th>LAB_SARSCOV2RDRP_First</th>\n",
       "    </tr>\n",
       "  </thead>\n",
       "  <tbody>\n",
       "    <tr>\n",
       "      <th>0</th>\n",
       "      <td>1</td>\n",
       "      <td>Phase 2</td>\n",
       "      <td>Hospital1</td>\n",
       "      <td>1400/05/21</td>\n",
       "      <td>NaN</td>\n",
       "      <td>Delta</td>\n",
       "      <td>Died</td>\n",
       "      <td>30.0</td>\n",
       "      <td>1</td>\n",
       "      <td>25</td>\n",
       "      <td>...</td>\n",
       "      <td>NaN</td>\n",
       "      <td>NaN</td>\n",
       "      <td>NaN</td>\n",
       "      <td>NaN</td>\n",
       "      <td>11.2</td>\n",
       "      <td>NaN</td>\n",
       "      <td>NaN</td>\n",
       "      <td>NaN</td>\n",
       "      <td>Positive</td>\n",
       "      <td>Positive CT:28.5</td>\n",
       "    </tr>\n",
       "    <tr>\n",
       "      <th>1</th>\n",
       "      <td>2</td>\n",
       "      <td>Phase 2</td>\n",
       "      <td>Hospital1</td>\n",
       "      <td>1400/05/29</td>\n",
       "      <td>NaN</td>\n",
       "      <td>Delta</td>\n",
       "      <td>Died</td>\n",
       "      <td>19.0</td>\n",
       "      <td>1</td>\n",
       "      <td>15</td>\n",
       "      <td>...</td>\n",
       "      <td>NaN</td>\n",
       "      <td>NaN</td>\n",
       "      <td>NaN</td>\n",
       "      <td>NaN</td>\n",
       "      <td>NaN</td>\n",
       "      <td>NaN</td>\n",
       "      <td>NaN</td>\n",
       "      <td>NaN</td>\n",
       "      <td>Positive</td>\n",
       "      <td>Positive CT:18.0</td>\n",
       "    </tr>\n",
       "    <tr>\n",
       "      <th>2</th>\n",
       "      <td>3</td>\n",
       "      <td>Phase 2</td>\n",
       "      <td>Hospital1</td>\n",
       "      <td>1400/06/17</td>\n",
       "      <td>NaN</td>\n",
       "      <td>Delta</td>\n",
       "      <td>Died</td>\n",
       "      <td>12.0</td>\n",
       "      <td>1</td>\n",
       "      <td>11</td>\n",
       "      <td>...</td>\n",
       "      <td>NaN</td>\n",
       "      <td>NaN</td>\n",
       "      <td>NaN</td>\n",
       "      <td>NaN</td>\n",
       "      <td>39.9</td>\n",
       "      <td>NaN</td>\n",
       "      <td>NaN</td>\n",
       "      <td>NaN</td>\n",
       "      <td>NaN</td>\n",
       "      <td>NaN</td>\n",
       "    </tr>\n",
       "    <tr>\n",
       "      <th>3</th>\n",
       "      <td>4</td>\n",
       "      <td>Phase 2</td>\n",
       "      <td>Hospital1</td>\n",
       "      <td>1400/02/04</td>\n",
       "      <td>NaN</td>\n",
       "      <td>NaN</td>\n",
       "      <td>Survived</td>\n",
       "      <td>18.0</td>\n",
       "      <td>1</td>\n",
       "      <td>9</td>\n",
       "      <td>...</td>\n",
       "      <td>NaN</td>\n",
       "      <td>NaN</td>\n",
       "      <td>NaN</td>\n",
       "      <td>NaN</td>\n",
       "      <td>NaN</td>\n",
       "      <td>NaN</td>\n",
       "      <td>NaN</td>\n",
       "      <td>NaN</td>\n",
       "      <td>Positive</td>\n",
       "      <td>Positive CT:20.9</td>\n",
       "    </tr>\n",
       "    <tr>\n",
       "      <th>4</th>\n",
       "      <td>5</td>\n",
       "      <td>Phase 2</td>\n",
       "      <td>Hospital1</td>\n",
       "      <td>1400/02/04</td>\n",
       "      <td>NaN</td>\n",
       "      <td>NaN</td>\n",
       "      <td>Survived</td>\n",
       "      <td>18.0</td>\n",
       "      <td>1</td>\n",
       "      <td>9</td>\n",
       "      <td>...</td>\n",
       "      <td>NaN</td>\n",
       "      <td>NaN</td>\n",
       "      <td>NaN</td>\n",
       "      <td>NaN</td>\n",
       "      <td>NaN</td>\n",
       "      <td>NaN</td>\n",
       "      <td>NaN</td>\n",
       "      <td>NaN</td>\n",
       "      <td>Positive</td>\n",
       "      <td>Positive CT:20.9</td>\n",
       "    </tr>\n",
       "  </tbody>\n",
       "</table>\n",
       "<p>5 rows × 330 columns</p>\n",
       "</div>"
      ],
      "text/plain": [
       "   Patient_Number Patient_Phase Patient_Hospital Patient_AdmitDate  \\\n",
       "0               1       Phase 2        Hospital1        1400/05/21   \n",
       "1               2       Phase 2        Hospital1        1400/05/29   \n",
       "2               3       Phase 2        Hospital1        1400/06/17   \n",
       "3               4       Phase 2        Hospital1        1400/02/04   \n",
       "4               5       Phase 2        Hospital1        1400/02/04   \n",
       "\n",
       "  Patient_DischargeDate Patient_C19Variant Outcome_InhospitalMortality  \\\n",
       "0                   NaN              Delta                        Died   \n",
       "1                   NaN              Delta                        Died   \n",
       "2                   NaN              Delta                        Died   \n",
       "3                   NaN                NaN                    Survived   \n",
       "4                   NaN                NaN                    Survived   \n",
       "\n",
       "   Outcome_LOS  Outcome_ICUadmission Outcome_ICULOS  ...  \\\n",
       "0         30.0                     1             25  ...   \n",
       "1         19.0                     1             15  ...   \n",
       "2         12.0                     1             11  ...   \n",
       "3         18.0                     1              9  ...   \n",
       "4         18.0                     1              9  ...   \n",
       "\n",
       "   LAB_TotalProtein_First LAB_TSH_First LAB_T4_First LAB_T3_First  \\\n",
       "0                     NaN           NaN          NaN          NaN   \n",
       "1                     NaN           NaN          NaN          NaN   \n",
       "2                     NaN           NaN          NaN          NaN   \n",
       "3                     NaN           NaN          NaN          NaN   \n",
       "4                     NaN           NaN          NaN          NaN   \n",
       "\n",
       "  LAB_VitD3_First LAB_Zinc_y_First LAB_IgM_First LAB_IgG_First  \\\n",
       "0            11.2              NaN           NaN           NaN   \n",
       "1             NaN              NaN           NaN           NaN   \n",
       "2            39.9              NaN           NaN           NaN   \n",
       "3             NaN              NaN           NaN           NaN   \n",
       "4             NaN              NaN           NaN           NaN   \n",
       "\n",
       "  LAB_SARSCOV2Egene_First LAB_SARSCOV2RDRP_First  \n",
       "0                Positive       Positive CT:28.5  \n",
       "1                Positive       Positive CT:18.0  \n",
       "2                     NaN                    NaN  \n",
       "3                Positive       Positive CT:20.9  \n",
       "4                Positive       Positive CT:20.9  \n",
       "\n",
       "[5 rows x 330 columns]"
      ]
     },
     "execution_count": 2,
     "metadata": {},
     "output_type": "execute_result"
    }
   ],
   "source": [
    "Data = pd.read_csv (\"COVID.csv\")\n",
    "Data.head ()"
   ]
  },
  {
   "cell_type": "markdown",
   "id": "1d5faea0",
   "metadata": {},
   "source": [
    "## make dataframe smaller"
   ]
  },
  {
   "cell_type": "code",
   "execution_count": 3,
   "id": "040d1a65",
   "metadata": {},
   "outputs": [],
   "source": [
    "list_of_variables = [\"Patient_Hospital\", \"Patient_C19Variant\",\"Outcome_LOS\",\"Outcome_ICUadmission\",\"Demographic_Age\",\"Demographic_Gender\", \"symtpm_to_referral\",\"Outcome_InhospitalMortality\"]\n",
    "cdf = Data [list_of_variables]"
   ]
  },
  {
   "cell_type": "markdown",
   "id": "5d24704e",
   "metadata": {},
   "source": [
    "## Let's check target variable\n",
    "\n",
    "- The purpose of this line is to check if there is any missing value or outliers"
   ]
  },
  {
   "cell_type": "code",
   "execution_count": 4,
   "id": "b7c3026c",
   "metadata": {
    "scrolled": false
   },
   "outputs": [
    {
     "data": {
      "text/plain": [
       "Survived    7239\n",
       "Died        1816\n",
       "Unknown       79\n",
       "Name: Outcome_InhospitalMortality, dtype: int64"
      ]
     },
     "execution_count": 4,
     "metadata": {},
     "output_type": "execute_result"
    }
   ],
   "source": [
    "cdf [\"Outcome_InhospitalMortality\"].value_counts ()"
   ]
  },
  {
   "cell_type": "markdown",
   "id": "ba682a24",
   "metadata": {},
   "source": [
    "# Data Cleaning:\n",
    "\n",
    "## 1) Replace values in a DataFrame (target values)\n",
    "\n",
    "Here I'm going to replace values of the target variable (\"Outcome_InhospitalMortality\") as following:\n",
    "- \"Died\" = 1\n",
    "- \"Survived\" = 0\n",
    "- \"Unknown\" = missing data\n",
    "\n",
    "First you should define a dictionary and specify which value is equivalent to which one\n",
    "* you will need np.nan to specify missing value\n",
    "* We have to remove missing values in case of dependant variable"
   ]
  },
  {
   "cell_type": "code",
   "execution_count": 5,
   "id": "d3f15ce6",
   "metadata": {
    "scrolled": true
   },
   "outputs": [
    {
     "name": "stdout",
     "output_type": "stream",
     "text": [
      "0.0    7239\n",
      "1.0    1816\n",
      "Name: Outcome_InhospitalMortality, dtype: int64\n"
     ]
    },
    {
     "name": "stderr",
     "output_type": "stream",
     "text": [
      "C:\\Users\\Hossein Toreyhi\\AppData\\Local\\Temp\\ipykernel_14272\\2801121916.py:2: SettingWithCopyWarning: \n",
      "A value is trying to be set on a copy of a slice from a DataFrame.\n",
      "Try using .loc[row_indexer,col_indexer] = value instead\n",
      "\n",
      "See the caveats in the documentation: https://pandas.pydata.org/pandas-docs/stable/user_guide/indexing.html#returning-a-view-versus-a-copy\n",
      "  cdf [\"Outcome_InhospitalMortality\"] = cdf [\"Outcome_InhospitalMortality\"].replace(mapping)\n",
      "C:\\Users\\Hossein Toreyhi\\AppData\\Local\\Temp\\ipykernel_14272\\2801121916.py:6: SettingWithCopyWarning: \n",
      "A value is trying to be set on a copy of a slice from a DataFrame\n",
      "\n",
      "See the caveats in the documentation: https://pandas.pydata.org/pandas-docs/stable/user_guide/indexing.html#returning-a-view-versus-a-copy\n",
      "  cdf.dropna(subset=['Outcome_InhospitalMortality'], inplace=True)\n"
     ]
    }
   ],
   "source": [
    "mapping = {'Died': 1, 'Survived': 0, 'Unknown': np.nan}\n",
    "cdf [\"Outcome_InhospitalMortality\"] = cdf [\"Outcome_InhospitalMortality\"].replace(mapping)\n",
    "\n",
    "# removing of missing values\n",
    "\n",
    "cdf.dropna(subset=['Outcome_InhospitalMortality'], inplace=True)\n",
    "print (cdf [\"Outcome_InhospitalMortality\"].value_counts ())"
   ]
  },
  {
   "cell_type": "markdown",
   "id": "4df9d17e",
   "metadata": {},
   "source": [
    "## 2) Cleaning independant variables\n",
    "\n",
    "- Similarly ...\n",
    "- You should see what we got then cleaning then transform (or categorization)\n",
    "- Besides, we need to imput missing values"
   ]
  },
  {
   "cell_type": "code",
   "execution_count": 6,
   "id": "52859c81",
   "metadata": {
    "scrolled": true
   },
   "outputs": [
    {
     "name": "stdout",
     "output_type": "stream",
     "text": [
      "Hospital1    4740\n",
      "Hospital3    1734\n",
      "Hospital2    1409\n",
      "Hospital4    1172\n",
      "Name: Patient_Hospital, dtype: int64\n",
      "Delta      1551\n",
      "Omicron     268\n",
      "Name: Patient_C19Variant, dtype: int64\n",
      "Male      4898\n",
      "Female    4099\n",
      "1           34\n",
      "2           23\n",
      "0            1\n",
      "Name: Demographic_Gender, dtype: int64\n"
     ]
    }
   ],
   "source": [
    "List_of_categorization = [\"Patient_Hospital\",\"Patient_C19Variant\",\"Demographic_Gender\"]\n",
    "print (cdf [\"Patient_Hospital\"].value_counts ())\n",
    "print (cdf [\"Patient_C19Variant\"].value_counts ())\n",
    "print (cdf [\"Demographic_Gender\"].value_counts ())"
   ]
  },
  {
   "cell_type": "code",
   "execution_count": 7,
   "id": "1f2f2524",
   "metadata": {
    "scrolled": true
   },
   "outputs": [
    {
     "name": "stderr",
     "output_type": "stream",
     "text": [
      "C:\\Users\\Hossein Toreyhi\\AppData\\Local\\Temp\\ipykernel_14272\\1348430395.py:3: SettingWithCopyWarning: \n",
      "A value is trying to be set on a copy of a slice from a DataFrame.\n",
      "Try using .loc[row_indexer,col_indexer] = value instead\n",
      "\n",
      "See the caveats in the documentation: https://pandas.pydata.org/pandas-docs/stable/user_guide/indexing.html#returning-a-view-versus-a-copy\n",
      "  cdf [\"Patient_Hospital\"] = pd.factorize( cdf [\"Patient_Hospital\"])[0]\n",
      "C:\\Users\\Hossein Toreyhi\\AppData\\Local\\Temp\\ipykernel_14272\\1348430395.py:4: SettingWithCopyWarning: \n",
      "A value is trying to be set on a copy of a slice from a DataFrame.\n",
      "Try using .loc[row_indexer,col_indexer] = value instead\n",
      "\n",
      "See the caveats in the documentation: https://pandas.pydata.org/pandas-docs/stable/user_guide/indexing.html#returning-a-view-versus-a-copy\n",
      "  cdf [\"Patient_C19Variant\"] = pd.factorize( cdf [\"Patient_C19Variant\"])[0]\n",
      "C:\\Users\\Hossein Toreyhi\\AppData\\Local\\Temp\\ipykernel_14272\\1348430395.py:9: SettingWithCopyWarning: \n",
      "A value is trying to be set on a copy of a slice from a DataFrame.\n",
      "Try using .loc[row_indexer,col_indexer] = value instead\n",
      "\n",
      "See the caveats in the documentation: https://pandas.pydata.org/pandas-docs/stable/user_guide/indexing.html#returning-a-view-versus-a-copy\n",
      "  cdf [\"Demographic_Gender\"] = cdf [\"Demographic_Gender\"].replace(mapping)\n",
      "C:\\Users\\Hossein Toreyhi\\AppData\\Local\\Temp\\ipykernel_14272\\1348430395.py:10: SettingWithCopyWarning: \n",
      "A value is trying to be set on a copy of a slice from a DataFrame.\n",
      "Try using .loc[row_indexer,col_indexer] = value instead\n",
      "\n",
      "See the caveats in the documentation: https://pandas.pydata.org/pandas-docs/stable/user_guide/indexing.html#returning-a-view-versus-a-copy\n",
      "  cdf [\"Demographic_Gender\"] = pd.factorize( cdf [\"Demographic_Gender\"])[0]\n"
     ]
    },
    {
     "data": {
      "text/html": [
       "<div>\n",
       "<style scoped>\n",
       "    .dataframe tbody tr th:only-of-type {\n",
       "        vertical-align: middle;\n",
       "    }\n",
       "\n",
       "    .dataframe tbody tr th {\n",
       "        vertical-align: top;\n",
       "    }\n",
       "\n",
       "    .dataframe thead th {\n",
       "        text-align: right;\n",
       "    }\n",
       "</style>\n",
       "<table border=\"1\" class=\"dataframe\">\n",
       "  <thead>\n",
       "    <tr style=\"text-align: right;\">\n",
       "      <th></th>\n",
       "      <th>Patient_Hospital</th>\n",
       "      <th>Patient_C19Variant</th>\n",
       "      <th>Outcome_LOS</th>\n",
       "      <th>Outcome_ICUadmission</th>\n",
       "      <th>Demographic_Age</th>\n",
       "      <th>Demographic_Gender</th>\n",
       "      <th>symtpm_to_referral</th>\n",
       "      <th>Outcome_InhospitalMortality</th>\n",
       "    </tr>\n",
       "  </thead>\n",
       "  <tbody>\n",
       "    <tr>\n",
       "      <th>0</th>\n",
       "      <td>0</td>\n",
       "      <td>0</td>\n",
       "      <td>30.0</td>\n",
       "      <td>1</td>\n",
       "      <td>33.0</td>\n",
       "      <td>0</td>\n",
       "      <td>8.0</td>\n",
       "      <td>1.0</td>\n",
       "    </tr>\n",
       "    <tr>\n",
       "      <th>1</th>\n",
       "      <td>0</td>\n",
       "      <td>0</td>\n",
       "      <td>19.0</td>\n",
       "      <td>1</td>\n",
       "      <td>44.0</td>\n",
       "      <td>0</td>\n",
       "      <td>NaN</td>\n",
       "      <td>1.0</td>\n",
       "    </tr>\n",
       "    <tr>\n",
       "      <th>2</th>\n",
       "      <td>0</td>\n",
       "      <td>0</td>\n",
       "      <td>12.0</td>\n",
       "      <td>1</td>\n",
       "      <td>50.0</td>\n",
       "      <td>0</td>\n",
       "      <td>7.0</td>\n",
       "      <td>1.0</td>\n",
       "    </tr>\n",
       "    <tr>\n",
       "      <th>3</th>\n",
       "      <td>0</td>\n",
       "      <td>-1</td>\n",
       "      <td>18.0</td>\n",
       "      <td>1</td>\n",
       "      <td>71.0</td>\n",
       "      <td>0</td>\n",
       "      <td>7.0</td>\n",
       "      <td>0.0</td>\n",
       "    </tr>\n",
       "    <tr>\n",
       "      <th>4</th>\n",
       "      <td>0</td>\n",
       "      <td>-1</td>\n",
       "      <td>18.0</td>\n",
       "      <td>1</td>\n",
       "      <td>71.0</td>\n",
       "      <td>0</td>\n",
       "      <td>7.0</td>\n",
       "      <td>0.0</td>\n",
       "    </tr>\n",
       "  </tbody>\n",
       "</table>\n",
       "</div>"
      ],
      "text/plain": [
       "   Patient_Hospital  Patient_C19Variant  Outcome_LOS  Outcome_ICUadmission  \\\n",
       "0                 0                   0         30.0                     1   \n",
       "1                 0                   0         19.0                     1   \n",
       "2                 0                   0         12.0                     1   \n",
       "3                 0                  -1         18.0                     1   \n",
       "4                 0                  -1         18.0                     1   \n",
       "\n",
       "   Demographic_Age  Demographic_Gender symtpm_to_referral  \\\n",
       "0             33.0                   0                8.0   \n",
       "1             44.0                   0                NaN   \n",
       "2             50.0                   0                7.0   \n",
       "3             71.0                   0                7.0   \n",
       "4             71.0                   0                7.0   \n",
       "\n",
       "   Outcome_InhospitalMortality  \n",
       "0                          1.0  \n",
       "1                          1.0  \n",
       "2                          1.0  \n",
       "3                          0.0  \n",
       "4                          0.0  "
      ]
     },
     "execution_count": 7,
     "metadata": {},
     "output_type": "execute_result"
    }
   ],
   "source": [
    "# Patient_Hospital and Patient_C19Variant only need categorization\n",
    "\n",
    "cdf [\"Patient_Hospital\"] = pd.factorize( cdf [\"Patient_Hospital\"])[0]\n",
    "cdf [\"Patient_C19Variant\"] = pd.factorize( cdf [\"Patient_C19Variant\"])[0]\n",
    "\n",
    "# Demographic_Gender needs cleaning and categorization:\n",
    "\n",
    "Gender = {1: \"Male\", 2 : \"Female\" , 0 : np.nan}\n",
    "cdf [\"Demographic_Gender\"] = cdf [\"Demographic_Gender\"].replace(mapping)\n",
    "cdf [\"Demographic_Gender\"] = pd.factorize( cdf [\"Demographic_Gender\"])[0]\n",
    "\n",
    "cdf.head ()"
   ]
  },
  {
   "cell_type": "markdown",
   "id": "52e3a3a9",
   "metadata": {},
   "source": [
    "## Imputation is necessary\n",
    "\n",
    "- We replaced missing value with mean"
   ]
  },
  {
   "cell_type": "code",
   "execution_count": 8,
   "id": "89f98720",
   "metadata": {},
   "outputs": [
    {
     "name": "stderr",
     "output_type": "stream",
     "text": [
      "C:\\Users\\Hossein Toreyhi\\AppData\\Local\\Temp\\ipykernel_14272\\528285098.py:6: SettingWithCopyWarning: \n",
      "A value is trying to be set on a copy of a slice from a DataFrame.\n",
      "Try using .loc[row_indexer,col_indexer] = value instead\n",
      "\n",
      "See the caveats in the documentation: https://pandas.pydata.org/pandas-docs/stable/user_guide/indexing.html#returning-a-view-versus-a-copy\n",
      "  cdf [imputaion_list] = imp.transform(cdf[imputaion_list])\n"
     ]
    }
   ],
   "source": [
    "from sklearn.impute import SimpleImputer\n",
    "imp = SimpleImputer(missing_values=np.nan, strategy='mean')\n",
    "\n",
    "imputaion_list = [\"Patient_Hospital\", \"Patient_C19Variant\",\"Outcome_LOS\",\"Outcome_ICUadmission\",\"Demographic_Age\",\"Demographic_Gender\", \"symtpm_to_referral\"]\n",
    "imp.fit(cdf [imputaion_list])\n",
    "cdf [imputaion_list] = imp.transform(cdf[imputaion_list])"
   ]
  },
  {
   "cell_type": "code",
   "execution_count": 9,
   "id": "2c1de275",
   "metadata": {},
   "outputs": [],
   "source": [
    "x = cdf [[\"Patient_Hospital\", \"Patient_C19Variant\",\"Outcome_LOS\",\"Outcome_ICUadmission\",\"Demographic_Age\",\"Demographic_Gender\", \"symtpm_to_referral\"]].values\n",
    "y = cdf [[\"Outcome_InhospitalMortality\"]]"
   ]
  },
  {
   "cell_type": "markdown",
   "id": "f05db9f5",
   "metadata": {},
   "source": [
    "## Normalizind data\n",
    "\n",
    "- The porpose of this step is to make different variable distributions comparable for each other\n",
    "- It is worth mentioning that I tored apart to clean continous values in such a messy database\n"
   ]
  },
  {
   "cell_type": "code",
   "execution_count": 10,
   "id": "c4596f3a",
   "metadata": {},
   "outputs": [],
   "source": [
    "x = preprocessing.StandardScaler().fit(x).transform (x.astype (float))"
   ]
  },
  {
   "cell_type": "markdown",
   "id": "aa9af38c",
   "metadata": {},
   "source": [
    "## Train/Test splitting\n",
    "\n",
    "- This time, we are gonna split our data differently"
   ]
  },
  {
   "cell_type": "code",
   "execution_count": 11,
   "id": "357ea431",
   "metadata": {},
   "outputs": [],
   "source": [
    "from sklearn.model_selection import train_test_split\n",
    "x_train, x_test, y_train, y_test = train_test_split (x,y,test_size = 0.2, random_state = 4)"
   ]
  },
  {
   "cell_type": "markdown",
   "id": "a7fd0d4b",
   "metadata": {},
   "source": [
    "## Model training\n",
    "\n",
    "- As I said before, the KNN or K-nearest neighbors model will be used in this code\n",
    "- Moreover, I'm going to predict a little bit to describe my model better"
   ]
  },
  {
   "cell_type": "code",
   "execution_count": 12,
   "id": "0c6b4e73",
   "metadata": {},
   "outputs": [
    {
     "name": "stdout",
     "output_type": "stream",
     "text": [
      "[0. 1. 0. 0. 0. 0. 0. 0. 1. 0.]\n",
      "      Outcome_InhospitalMortality\n",
      "7839                          0.0\n",
      "476                           0.0\n",
      "1271                          0.0\n",
      "6061                          0.0\n",
      "4910                          0.0\n",
      "6233                          0.0\n",
      "7296                          0.0\n",
      "4846                          0.0\n",
      "4249                          1.0\n",
      "2309                          0.0\n"
     ]
    },
    {
     "name": "stderr",
     "output_type": "stream",
     "text": [
      "C:\\Users\\Hossein Toreyhi\\AppData\\Roaming\\Python\\Python310\\site-packages\\sklearn\\neighbors\\_classification.py:215: DataConversionWarning: A column-vector y was passed when a 1d array was expected. Please change the shape of y to (n_samples,), for example using ravel().\n",
      "  return self._fit(X, y)\n"
     ]
    }
   ],
   "source": [
    "from sklearn.neighbors import KNeighborsClassifier\n",
    "k = 4 \n",
    "neigh = KNeighborsClassifier (n_neighbors = k).fit (x_train, y_train)\n",
    "yhat = neigh.predict (x_test)\n",
    "print (yhat [0:10])\n",
    "print (y_test [0:10])"
   ]
  },
  {
   "cell_type": "markdown",
   "id": "0d28ac0a",
   "metadata": {},
   "source": [
    "# Model Evaluation\n",
    "\n",
    "- There are many ways to evaluate a classification model\n",
    "- We will evaluate our model from simple to complicated methods\n",
    "\n",
    "## 1) Accuracy score :"
   ]
  },
  {
   "cell_type": "code",
   "execution_count": 13,
   "id": "6cbcf1d5",
   "metadata": {
    "scrolled": false
   },
   "outputs": [
    {
     "name": "stdout",
     "output_type": "stream",
     "text": [
      "Train set accuracy is :  0.873964660408614\n",
      "Test set accuracy is :  0.8144671452236334\n"
     ]
    }
   ],
   "source": [
    "from sklearn import metrics\n",
    "print (\"Train set accuracy is : \", metrics.accuracy_score (y_train, neigh.predict (x_train)))\n",
    "print (\"Test set accuracy is : \", metrics.accuracy_score (y_test, yhat))"
   ]
  },
  {
   "cell_type": "markdown",
   "id": "8239f2df",
   "metadata": {},
   "source": [
    "## 2) F1-score:\n",
    "\n",
    "See differences between different types of F1-score calculation\n",
    "\n",
    "\n",
    "- average=None: The function returns the individual F1 scores for each class, in an array of shape (n_classes,). This is useful when you want to evaluate the performance of the classifier for each class separately.\n",
    "\n",
    "- average='micro': The function calculates the F1 score globally, by counting the total number of true positives, false negatives, and false positives over all classes, and then computing the F1 score based on those counts. This option treats all classes equally and is suitable when the data is imbalanced.\n",
    "\n",
    "- average='macro': The function calculates the F1 score for each class and then takes the unweighted mean of the F1 scores. This option treats all classes equally, regardless of their frequency, and is useful when you want to evaluate the overall performance of the classifier across all classes.\n",
    "\n",
    "- average='weighted': The function calculates the F1 score for each class and then takes the weighted mean of the F1 scores, where the weights are proportional to the number of true instances in each class. This option gives more weight to classes with more samples and is useful when the data is imbalanced.\n",
    "\n",
    "- average='samples': This option is only applicable when the target values are multilabel and each sample can belong to one or more classes. In this case, the function computes the F1 score for each sample and takes the unweighted mean of the F1 scores over all samples.\n",
    "\n",
    "- average='binary': This option is only applicable when there are two classes. In this case, the function calculates the F1 score for the positive class and returns it. This option is useful when you're interested in the performance of the classifier on a specific class.\n",
    "\n",
    "#### In brief : \n",
    "\n",
    "####  micro = the f1 score you know\n",
    "#### None = for each class (doesn't need quote \"\")\n",
    "#### macro and wighted for > 2 classes\n",
    "#### macro = unweighted\n",
    "#### binary = only the f1-score of positive class (2nd part of \"none\")"
   ]
  },
  {
   "cell_type": "code",
   "execution_count": 14,
   "id": "f63c1b7b",
   "metadata": {
    "scrolled": true
   },
   "outputs": [
    {
     "name": "stdout",
     "output_type": "stream",
     "text": [
      "F1 score for each one the outcomes are :  [0.88925511 0.42857143]\n",
      "F1 score is :  0.8144671452236334\n"
     ]
    }
   ],
   "source": [
    "from sklearn.metrics import f1_score\n",
    "\n",
    "# when average = none : it calculates the results for each class and\n",
    "print (\"F1 score for each one the outcomes are : \" , f1_score(y_test, yhat, average= None))\n",
    "print (\"F1 score is : \" , f1_score(y_test, yhat, average=\"micro\"))"
   ]
  },
  {
   "cell_type": "markdown",
   "id": "0f2a6555",
   "metadata": {},
   "source": [
    "## 3) Confustion matrix\n",
    "\n",
    "- there is a simple and ulgy wat and also there is a complex and beatiful way : "
   ]
  },
  {
   "cell_type": "code",
   "execution_count": 15,
   "id": "694a34f2",
   "metadata": {},
   "outputs": [
    {
     "name": "stdout",
     "output_type": "stream",
     "text": [
      "confusion matrix is : [[1349   84]\n",
      " [ 252  126]]\n"
     ]
    },
    {
     "data": {
      "image/png": "[encoded data removed]",
      "text/plain": [
       "<Figure size 576x432 with 2 Axes>"
      ]
     },
     "metadata": {
      "needs_background": "light"
     },
     "output_type": "display_data"
    }
   ],
   "source": [
    "from sklearn.metrics import confusion_matrix\n",
    "import seaborn as sns\n",
    "\n",
    "# plot (?) confusion matrix as numpy array\n",
    "\n",
    "cm = confusion_matrix(y_test, yhat)\n",
    "print (\"confusion matrix is :\", cm)\n",
    "\n",
    "# plot\n",
    "\n",
    "plt.figure(figsize=(8, 6))\n",
    "sns.heatmap(cm, annot=True, fmt=\"d\", cmap=\"Blues\")\n",
    "plt.title(\"Confusion Matrix\")\n",
    "plt.xlabel(\"Predicted Labels\")\n",
    "plt.ylabel(\"True Labels\")\n",
    "plt.show()"
   ]
  },
  {
   "cell_type": "markdown",
   "id": "96fdaf28",
   "metadata": {},
   "source": [
    "## 4) let's try for other Ks to see which one has higher accuracy:\n",
    "\n",
    "- which K has better NN ? :))"
   ]
  },
  {
   "cell_type": "code",
   "execution_count": 16,
   "id": "1fa9462b",
   "metadata": {
    "scrolled": true
   },
   "outputs": [
    {
     "name": "stderr",
     "output_type": "stream",
     "text": [
      "C:\\Users\\Hossein Toreyhi\\AppData\\Roaming\\Python\\Python310\\site-packages\\sklearn\\neighbors\\_classification.py:215: DataConversionWarning: A column-vector y was passed when a 1d array was expected. Please change the shape of y to (n_samples,), for example using ravel().\n",
      "  return self._fit(X, y)\n",
      "C:\\Users\\Hossein Toreyhi\\AppData\\Roaming\\Python\\Python310\\site-packages\\numpy\\core\\_methods.py:269: RuntimeWarning: Degrees of freedom <= 0 for slice\n",
      "  ret = _var(a, axis=axis, dtype=dtype, out=out, ddof=ddof,\n",
      "C:\\Users\\Hossein Toreyhi\\AppData\\Roaming\\Python\\Python310\\site-packages\\numpy\\core\\_methods.py:226: RuntimeWarning: invalid value encountered in divide\n",
      "  arrmean = um.true_divide(arrmean, div, out=arrmean,\n",
      "C:\\Users\\Hossein Toreyhi\\AppData\\Roaming\\Python\\Python310\\site-packages\\numpy\\core\\_methods.py:261: RuntimeWarning: invalid value encountered in scalar divide\n",
      "  ret = ret.dtype.type(ret / rcount)\n",
      "C:\\Users\\Hossein Toreyhi\\AppData\\Roaming\\Python\\Python310\\site-packages\\sklearn\\neighbors\\_classification.py:215: DataConversionWarning: A column-vector y was passed when a 1d array was expected. Please change the shape of y to (n_samples,), for example using ravel().\n",
      "  return self._fit(X, y)\n",
      "C:\\Users\\Hossein Toreyhi\\AppData\\Roaming\\Python\\Python310\\site-packages\\sklearn\\neighbors\\_classification.py:215: DataConversionWarning: A column-vector y was passed when a 1d array was expected. Please change the shape of y to (n_samples,), for example using ravel().\n",
      "  return self._fit(X, y)\n",
      "C:\\Users\\Hossein Toreyhi\\AppData\\Roaming\\Python\\Python310\\site-packages\\sklearn\\neighbors\\_classification.py:215: DataConversionWarning: A column-vector y was passed when a 1d array was expected. Please change the shape of y to (n_samples,), for example using ravel().\n",
      "  return self._fit(X, y)\n",
      "C:\\Users\\Hossein Toreyhi\\AppData\\Roaming\\Python\\Python310\\site-packages\\sklearn\\neighbors\\_classification.py:215: DataConversionWarning: A column-vector y was passed when a 1d array was expected. Please change the shape of y to (n_samples,), for example using ravel().\n",
      "  return self._fit(X, y)\n",
      "C:\\Users\\Hossein Toreyhi\\AppData\\Roaming\\Python\\Python310\\site-packages\\sklearn\\neighbors\\_classification.py:215: DataConversionWarning: A column-vector y was passed when a 1d array was expected. Please change the shape of y to (n_samples,), for example using ravel().\n",
      "  return self._fit(X, y)\n",
      "C:\\Users\\Hossein Toreyhi\\AppData\\Roaming\\Python\\Python310\\site-packages\\sklearn\\neighbors\\_classification.py:215: DataConversionWarning: A column-vector y was passed when a 1d array was expected. Please change the shape of y to (n_samples,), for example using ravel().\n",
      "  return self._fit(X, y)\n",
      "C:\\Users\\Hossein Toreyhi\\AppData\\Roaming\\Python\\Python310\\site-packages\\sklearn\\neighbors\\_classification.py:215: DataConversionWarning: A column-vector y was passed when a 1d array was expected. Please change the shape of y to (n_samples,), for example using ravel().\n",
      "  return self._fit(X, y)\n",
      "C:\\Users\\Hossein Toreyhi\\AppData\\Roaming\\Python\\Python310\\site-packages\\sklearn\\neighbors\\_classification.py:215: DataConversionWarning: A column-vector y was passed when a 1d array was expected. Please change the shape of y to (n_samples,), for example using ravel().\n",
      "  return self._fit(X, y)\n"
     ]
    },
    {
     "name": "stdout",
     "output_type": "stream",
     "text": [
      "[0.76974047 0.81778023 0.80287134 0.81446715 0.81833241 0.82606295\n",
      " 0.82330204 0.83600221 0.82882385]\n",
      "[       nan 0.         0.02401988 0.02007693 0.01899615 0.01831844\n",
      " 0.01853078 0.0179507  0.01881054]\n",
      "The best accuracy was with 0.8360022087244616 with k= 8\n"
     ]
    }
   ],
   "source": [
    "Ks = 10\n",
    "\n",
    "# Here I'm gonna define an empty matrix with Ks 0s in order to fullfill it later : \n",
    "\n",
    "all_accuracy = np.zeros ((Ks-1))\n",
    "all_std = np.zeros ((Ks-1))\n",
    "\n",
    "# (matrix starts from 0 and K starts from 1, that's why we have this much minus 1)\n",
    "\n",
    "for i in range (1,Ks):\n",
    "    neigh = KNeighborsClassifier (n_neighbors = i).fit (x_train, y_train)\n",
    "    yhat = neigh.predict (x_test)\n",
    "    all_accuracy [i-1] = metrics.accuracy_score (y_test, yhat)\n",
    "    all_std[i - 1] = np.std(all_accuracy[:i - 1])\n",
    "   \n",
    "\n",
    "    \n",
    "print (all_accuracy)\n",
    "print (all_std)\n",
    "print( \"The best accuracy was with\", all_accuracy.max(), \"with k=\", all_accuracy.argmax()+1) \n",
    "\n",
    "    "
   ]
  },
  {
   "cell_type": "markdown",
   "id": "2be740c5",
   "metadata": {},
   "source": [
    "## Draw a plot"
   ]
  },
  {
   "cell_type": "code",
   "execution_count": 17,
   "id": "f4970492",
   "metadata": {},
   "outputs": [
    {
     "data": {
      "image/png": "[encoded data removed]",
      "text/plain": [
       "<Figure size 432x288 with 1 Axes>"
      ]
     },
     "metadata": {
      "needs_background": "light"
     },
     "output_type": "display_data"
    }
   ],
   "source": [
    "plt.plot(range(1,Ks),all_accuracy,'g')\n",
    "plt.fill_between(range(1,Ks),all_accuracy - 1 * all_std,all_accuracy + 1 * all_std, alpha=0.10)\n",
    "plt.fill_between(range(1,Ks),all_accuracy - 3 * all_std, all_accuracy + 3 * all_std, alpha=0.10,color=\"green\")\n",
    "plt.legend(('Accuracy ', '+/- 1xstd','+/- 3xstd'))\n",
    "plt.ylabel('Accuracy ')\n",
    "plt.xlabel('Number of Neighbors (K)')\n",
    "plt.tight_layout()\n",
    "plt.show()"
   ]
  }
 ],
 "metadata": {
  "kernelspec": {
   "display_name": "Python 3 (ipykernel)",
   "language": "python",
   "name": "python3"
  },
  "language_info": {
   "codemirror_mode": {
    "name": "ipython",
    "version": 3
   },
   "file_extension": ".py",
   "mimetype": "text/x-python",
   "name": "python",
   "nbconvert_exporter": "python",
   "pygments_lexer": "ipython3",
   "version": "3.10.4"
  }
 },
 "nbformat": 4,
 "nbformat_minor": 5
}
