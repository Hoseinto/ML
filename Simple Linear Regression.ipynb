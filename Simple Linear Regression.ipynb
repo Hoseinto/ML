{
 "cells": [
  {
   "cell_type": "markdown",
   "id": "fa1ef67e",
   "metadata": {},
   "source": [
    "# In this program ...\n",
    "\n",
    "- We will conduct a simple linear regressional model\n",
    "- Then, we will test the accuracy using R2 score\n",
    "- You also will learn how to imput your missing data within a dataframe using mean method.\n"
   ]
  },
  {
   "cell_type": "markdown",
   "id": "06b4a9d2",
   "metadata": {},
   "source": [
    "### Import Libraries"
   ]
  },
  {
   "cell_type": "code",
   "execution_count": 175,
   "id": "5d914e75",
   "metadata": {},
   "outputs": [],
   "source": [
    "import pandas as pd\n",
    "import numpy as np\n",
    "import matplotlib.pyplot as plt\n",
    "import pylab as pl\n",
    "%matplotlib inline"
   ]
  },
  {
   "cell_type": "markdown",
   "id": "954a9548",
   "metadata": {},
   "source": [
    "# Convert CSV to DataFrame\n",
    "\n",
    "\n",
    "- lets turn our CSV file into a pandas DataFrame \n",
    "\n"
   ]
  },
  {
   "cell_type": "code",
   "execution_count": 176,
   "id": "e8d1e6aa",
   "metadata": {
    "scrolled": true
   },
   "outputs": [
    {
     "name": "stderr",
     "output_type": "stream",
     "text": [
      "C:\\Users\\Hossein Toreyhi\\AppData\\Local\\Temp\\ipykernel_13160\\2992395251.py:1: DtypeWarning: Columns (5,7,9,10,12,13,14,15,16,17,18,19,20,24,25,26,32,33,36,37,41,44,45,48,49,50,52,53,54,56,57,58,59,61,63,64,65,70,71,72,73,76,78,79,81,83,84,85,86,87,88,90,93,94,95,96,97,98,99,100,102,103,104,105,106,107,108,109,110,113,114,116,117,119,120,122,123,124,125,126,127,128,129,130,131,132,133,134,135,136,137,138,139,140,141,142,143,144,145,146,147,148,149,153,157,158,159,160,161,162,163,164,165,166,167,168,169,170,171,172,173,174,175,176,177,178,179,180,181,182,183,184,185,186,187,188,189,190,191,193,194,195,196,198,199,200,201,202,203,204,205,206,207,208,209,210,211,212,213,214,215,216,217,218,219,220,221,222,223,224,225,226,227,228,229,230,231,232,233,234,235,236,237,238,243,244,245,246,247,248,249,250,251,252,253,254,255,256,257,258,259,260,261,262,263,264,265,266,267,268,269,270,271,272,273,274,275,276,277,279,280,281,282,283,284,285,287,288,289,290,291,292,293,295,296,297,298,299,300,301,305,306,307,308,310,311,312,313,314,315,316,317,318,321,322,323,324,326,327) have mixed types. Specify dtype option on import or set low_memory=False.\n",
      "  Data = pd.read_csv (\"COVID.csv\")\n"
     ]
    }
   ],
   "source": [
    "Data = pd.read_csv (\"COVID.csv\")"
   ]
  },
  {
   "cell_type": "markdown",
   "id": "0ee509dd",
   "metadata": {},
   "source": [
    "# Let's see what we got\n",
    "\n",
    "- see what is going on here\n",
    "\n"
   ]
  },
  {
   "cell_type": "code",
   "execution_count": 177,
   "id": "c897d574",
   "metadata": {
    "scrolled": true
   },
   "outputs": [
    {
     "data": {
      "text/html": [
       "<div>\n",
       "<style scoped>\n",
       "    .dataframe tbody tr th:only-of-type {\n",
       "        vertical-align: middle;\n",
       "    }\n",
       "\n",
       "    .dataframe tbody tr th {\n",
       "        vertical-align: top;\n",
       "    }\n",
       "\n",
       "    .dataframe thead th {\n",
       "        text-align: right;\n",
       "    }\n",
       "</style>\n",
       "<table border=\"1\" class=\"dataframe\">\n",
       "  <thead>\n",
       "    <tr style=\"text-align: right;\">\n",
       "      <th></th>\n",
       "      <th>Patient_Number</th>\n",
       "      <th>Patient_Phase</th>\n",
       "      <th>Patient_Hospital</th>\n",
       "      <th>Patient_AdmitDate</th>\n",
       "      <th>Patient_DischargeDate</th>\n",
       "      <th>Patient_C19Variant</th>\n",
       "      <th>Outcome_InhospitalMortality</th>\n",
       "      <th>Outcome_LOS</th>\n",
       "      <th>Outcome_ICUadmission</th>\n",
       "      <th>Outcome_ICULOS</th>\n",
       "      <th>...</th>\n",
       "      <th>LAB_TotalProtein_First</th>\n",
       "      <th>LAB_TSH_First</th>\n",
       "      <th>LAB_T4_First</th>\n",
       "      <th>LAB_T3_First</th>\n",
       "      <th>LAB_VitD3_First</th>\n",
       "      <th>LAB_Zinc_y_First</th>\n",
       "      <th>LAB_IgM_First</th>\n",
       "      <th>LAB_IgG_First</th>\n",
       "      <th>LAB_SARSCOV2Egene_First</th>\n",
       "      <th>LAB_SARSCOV2RDRP_First</th>\n",
       "    </tr>\n",
       "  </thead>\n",
       "  <tbody>\n",
       "    <tr>\n",
       "      <th>0</th>\n",
       "      <td>1</td>\n",
       "      <td>Phase 2</td>\n",
       "      <td>Hospital1</td>\n",
       "      <td>1400/05/21</td>\n",
       "      <td>NaN</td>\n",
       "      <td>Delta</td>\n",
       "      <td>Died</td>\n",
       "      <td>30</td>\n",
       "      <td>1</td>\n",
       "      <td>25</td>\n",
       "      <td>...</td>\n",
       "      <td>NaN</td>\n",
       "      <td>NaN</td>\n",
       "      <td>NaN</td>\n",
       "      <td>NaN</td>\n",
       "      <td>11.2</td>\n",
       "      <td>NaN</td>\n",
       "      <td>NaN</td>\n",
       "      <td>NaN</td>\n",
       "      <td>Positive</td>\n",
       "      <td>Positive CT:28.5</td>\n",
       "    </tr>\n",
       "    <tr>\n",
       "      <th>1</th>\n",
       "      <td>2</td>\n",
       "      <td>Phase 2</td>\n",
       "      <td>Hospital1</td>\n",
       "      <td>1400/05/29</td>\n",
       "      <td>NaN</td>\n",
       "      <td>Delta</td>\n",
       "      <td>Died</td>\n",
       "      <td>19</td>\n",
       "      <td>1</td>\n",
       "      <td>15</td>\n",
       "      <td>...</td>\n",
       "      <td>NaN</td>\n",
       "      <td>NaN</td>\n",
       "      <td>NaN</td>\n",
       "      <td>NaN</td>\n",
       "      <td>NaN</td>\n",
       "      <td>NaN</td>\n",
       "      <td>NaN</td>\n",
       "      <td>NaN</td>\n",
       "      <td>Positive</td>\n",
       "      <td>Positive CT:18.0</td>\n",
       "    </tr>\n",
       "    <tr>\n",
       "      <th>2</th>\n",
       "      <td>3</td>\n",
       "      <td>Phase 2</td>\n",
       "      <td>Hospital1</td>\n",
       "      <td>1400/06/17</td>\n",
       "      <td>NaN</td>\n",
       "      <td>Delta</td>\n",
       "      <td>Died</td>\n",
       "      <td>12</td>\n",
       "      <td>1</td>\n",
       "      <td>11</td>\n",
       "      <td>...</td>\n",
       "      <td>NaN</td>\n",
       "      <td>NaN</td>\n",
       "      <td>NaN</td>\n",
       "      <td>NaN</td>\n",
       "      <td>39.9</td>\n",
       "      <td>NaN</td>\n",
       "      <td>NaN</td>\n",
       "      <td>NaN</td>\n",
       "      <td>NaN</td>\n",
       "      <td>NaN</td>\n",
       "    </tr>\n",
       "    <tr>\n",
       "      <th>3</th>\n",
       "      <td>4</td>\n",
       "      <td>Phase 2</td>\n",
       "      <td>Hospital1</td>\n",
       "      <td>1400/02/04</td>\n",
       "      <td>NaN</td>\n",
       "      <td>NaN</td>\n",
       "      <td>Survived</td>\n",
       "      <td>18</td>\n",
       "      <td>1</td>\n",
       "      <td>9</td>\n",
       "      <td>...</td>\n",
       "      <td>NaN</td>\n",
       "      <td>NaN</td>\n",
       "      <td>NaN</td>\n",
       "      <td>NaN</td>\n",
       "      <td>NaN</td>\n",
       "      <td>NaN</td>\n",
       "      <td>NaN</td>\n",
       "      <td>NaN</td>\n",
       "      <td>Positive</td>\n",
       "      <td>Positive CT:20.9</td>\n",
       "    </tr>\n",
       "    <tr>\n",
       "      <th>4</th>\n",
       "      <td>5</td>\n",
       "      <td>Phase 2</td>\n",
       "      <td>Hospital1</td>\n",
       "      <td>1400/02/04</td>\n",
       "      <td>NaN</td>\n",
       "      <td>NaN</td>\n",
       "      <td>Survived</td>\n",
       "      <td>18</td>\n",
       "      <td>1</td>\n",
       "      <td>9</td>\n",
       "      <td>...</td>\n",
       "      <td>NaN</td>\n",
       "      <td>NaN</td>\n",
       "      <td>NaN</td>\n",
       "      <td>NaN</td>\n",
       "      <td>NaN</td>\n",
       "      <td>NaN</td>\n",
       "      <td>NaN</td>\n",
       "      <td>NaN</td>\n",
       "      <td>Positive</td>\n",
       "      <td>Positive CT:20.9</td>\n",
       "    </tr>\n",
       "  </tbody>\n",
       "</table>\n",
       "<p>5 rows × 330 columns</p>\n",
       "</div>"
      ],
      "text/plain": [
       "   Patient_Number Patient_Phase Patient_Hospital Patient_AdmitDate  \\\n",
       "0               1       Phase 2        Hospital1        1400/05/21   \n",
       "1               2       Phase 2        Hospital1        1400/05/29   \n",
       "2               3       Phase 2        Hospital1        1400/06/17   \n",
       "3               4       Phase 2        Hospital1        1400/02/04   \n",
       "4               5       Phase 2        Hospital1        1400/02/04   \n",
       "\n",
       "  Patient_DischargeDate Patient_C19Variant Outcome_InhospitalMortality  \\\n",
       "0                   NaN              Delta                        Died   \n",
       "1                   NaN              Delta                        Died   \n",
       "2                   NaN              Delta                        Died   \n",
       "3                   NaN                NaN                    Survived   \n",
       "4                   NaN                NaN                    Survived   \n",
       "\n",
       "  Outcome_LOS  Outcome_ICUadmission Outcome_ICULOS  ...  \\\n",
       "0          30                     1             25  ...   \n",
       "1          19                     1             15  ...   \n",
       "2          12                     1             11  ...   \n",
       "3          18                     1              9  ...   \n",
       "4          18                     1              9  ...   \n",
       "\n",
       "  LAB_TotalProtein_First LAB_TSH_First LAB_T4_First LAB_T3_First  \\\n",
       "0                    NaN           NaN          NaN          NaN   \n",
       "1                    NaN           NaN          NaN          NaN   \n",
       "2                    NaN           NaN          NaN          NaN   \n",
       "3                    NaN           NaN          NaN          NaN   \n",
       "4                    NaN           NaN          NaN          NaN   \n",
       "\n",
       "  LAB_VitD3_First LAB_Zinc_y_First LAB_IgM_First LAB_IgG_First  \\\n",
       "0            11.2              NaN           NaN           NaN   \n",
       "1             NaN              NaN           NaN           NaN   \n",
       "2            39.9              NaN           NaN           NaN   \n",
       "3             NaN              NaN           NaN           NaN   \n",
       "4             NaN              NaN           NaN           NaN   \n",
       "\n",
       "  LAB_SARSCOV2Egene_First LAB_SARSCOV2RDRP_First  \n",
       "0                Positive       Positive CT:28.5  \n",
       "1                Positive       Positive CT:18.0  \n",
       "2                     NaN                    NaN  \n",
       "3                Positive       Positive CT:20.9  \n",
       "4                Positive       Positive CT:20.9  \n",
       "\n",
       "[5 rows x 330 columns]"
      ]
     },
     "execution_count": 177,
     "metadata": {},
     "output_type": "execute_result"
    }
   ],
   "source": [
    "Data.head ()"
   ]
  },
  {
   "cell_type": "code",
   "execution_count": 178,
   "id": "43e58195",
   "metadata": {},
   "outputs": [
    {
     "data": {
      "text/plain": [
       "<Axes: >"
      ]
     },
     "execution_count": 178,
     "metadata": {},
     "output_type": "execute_result"
    },
    {
     "data": {
      "image/png": "[encoded data removed]",
      "text/plain": [
       "<Figure size 432x288 with 1 Axes>"
      ]
     },
     "metadata": {
      "needs_background": "light"
     },
     "output_type": "display_data"
    }
   ],
   "source": [
    "Data [\"Outcome_InhospitalMortality\"].hist()"
   ]
  },
  {
   "cell_type": "code",
   "execution_count": 179,
   "id": "bafec5f8",
   "metadata": {
    "scrolled": true
   },
   "outputs": [
    {
     "data": {
      "text/plain": [
       "<Figure size 720x432 with 0 Axes>"
      ]
     },
     "execution_count": 179,
     "metadata": {},
     "output_type": "execute_result"
    },
    {
     "data": {
      "image/png": "[encoded data removed]",
      "text/plain": [
       "<Figure size 432x288 with 1 Axes>"
      ]
     },
     "metadata": {
      "needs_background": "light"
     },
     "output_type": "display_data"
    },
    {
     "data": {
      "text/plain": [
       "<Figure size 720x432 with 0 Axes>"
      ]
     },
     "metadata": {},
     "output_type": "display_data"
    }
   ],
   "source": [
    "Data [\"VS_O2satwithoutsupp\"].hist()\n",
    "plt.figure(figsize=(10, 6))"
   ]
  },
  {
   "cell_type": "code",
   "execution_count": 180,
   "id": "f1f3ea8e",
   "metadata": {},
   "outputs": [],
   "source": [
    "Data[\"VS_O2satwithoutsupp\"]=Data[\"VS_O2satwithoutsupp\"].astype(float)"
   ]
  },
  {
   "cell_type": "code",
   "execution_count": 181,
   "id": "69935706",
   "metadata": {},
   "outputs": [
    {
     "data": {
      "image/png": "[encoded data removed]",
      "text/plain": [
       "<Figure size 432x288 with 1 Axes>"
      ]
     },
     "metadata": {
      "needs_background": "light"
     },
     "output_type": "display_data"
    }
   ],
   "source": [
    "O2sat = Data.groupby(\"Outcome_InhospitalMortality\")[\"VS_O2satwithoutsupp\"].mean ()\n",
    "O2sat.plot(kind=\"bar\")\n",
    "plt.show()\n"
   ]
  },
  {
   "cell_type": "code",
   "execution_count": 182,
   "id": "ab4ea99c",
   "metadata": {
    "scrolled": true
   },
   "outputs": [],
   "source": [
    "msk = np.random.rand (len (Data)) < 0.8\n",
    "train = Data [msk]\n",
    "test = Data [~msk]"
   ]
  },
  {
   "cell_type": "markdown",
   "id": "853cbe30",
   "metadata": {},
   "source": [
    "## train imutation\n",
    "\n",
    "- let's imoute missing values with mean"
   ]
  },
  {
   "cell_type": "code",
   "execution_count": 183,
   "id": "1d418379",
   "metadata": {},
   "outputs": [
    {
     "name": "stderr",
     "output_type": "stream",
     "text": [
      "C:\\Users\\Hossein Toreyhi\\AppData\\Local\\Temp\\ipykernel_13160\\1885526783.py:5: SettingWithCopyWarning: \n",
      "A value is trying to be set on a copy of a slice from a DataFrame.\n",
      "Try using .loc[row_indexer,col_indexer] = value instead\n",
      "\n",
      "See the caveats in the documentation: https://pandas.pydata.org/pandas-docs/stable/user_guide/indexing.html#returning-a-view-versus-a-copy\n",
      "  train[[\"VS_diastolic BP\", \"VS_Systolic BP\"]] = imp.transform(train[[\"VS_diastolic BP\", \"VS_Systolic BP\"]])\n"
     ]
    }
   ],
   "source": [
    "from sklearn.impute import SimpleImputer\n",
    "imp = SimpleImputer(missing_values=np.nan, strategy='mean')\n",
    "\n",
    "imp.fit(train [[\"VS_diastolic BP\",\"VS_Systolic BP\"]])\n",
    "train[[\"VS_diastolic BP\", \"VS_Systolic BP\"]] = imp.transform(train[[\"VS_diastolic BP\", \"VS_Systolic BP\"]])\n"
   ]
  },
  {
   "cell_type": "markdown",
   "id": "9861df77",
   "metadata": {},
   "source": [
    "# Chek if there is any missing value or not"
   ]
  },
  {
   "cell_type": "code",
   "execution_count": 184,
   "id": "0b3fcceb",
   "metadata": {},
   "outputs": [
    {
     "name": "stdout",
     "output_type": "stream",
     "text": [
      "VS_diastolic BP    False\n",
      "VS_Systolic BP     False\n",
      "dtype: bool\n"
     ]
    }
   ],
   "source": [
    "columns_to_check = [\"VS_diastolic BP\",\"VS_Systolic BP\"]\n",
    "missing_values = train [columns_to_check].isnull().any()\n",
    "print(missing_values)"
   ]
  },
  {
   "cell_type": "markdown",
   "id": "2d00379a",
   "metadata": {},
   "source": [
    "# Linear regression model\n",
    "\n",
    "- We wanna find the coefficient and intercept\n",
    "- parameters : SBP and DBP\n"
   ]
  },
  {
   "cell_type": "code",
   "execution_count": 185,
   "id": "15d2f6c4",
   "metadata": {},
   "outputs": [
    {
     "name": "stdout",
     "output_type": "stream",
     "text": [
      "[[1.09203313]]\n",
      "[38.31958972]\n"
     ]
    }
   ],
   "source": [
    "from sklearn import linear_model\n",
    "\n",
    "regr = linear_model.LinearRegression ()\n",
    "\n",
    "train_x = np.asanyarray (train [[\"VS_diastolic BP\"]])\n",
    "\n",
    "train_y = np.asanyarray (train [[\"VS_Systolic BP\"]])\n",
    "\n",
    "regr.fit (train_x, train_y)\n",
    "\n",
    "print (regr.coef_)\n",
    "\n",
    "print (regr.intercept_) \n"
   ]
  },
  {
   "cell_type": "markdown",
   "id": "1b8fdf22",
   "metadata": {},
   "source": [
    "# Draw plot\n",
    "\n",
    "- lets draw scatter plot along with linear regressional model"
   ]
  },
  {
   "cell_type": "code",
   "execution_count": 186,
   "id": "187a78e7",
   "metadata": {
    "scrolled": true
   },
   "outputs": [
    {
     "data": {
      "text/plain": [
       "Text(0, 0.5, 'SBP')"
      ]
     },
     "execution_count": 186,
     "metadata": {},
     "output_type": "execute_result"
    },
    {
     "data": {
      "image/png": "[encoded data removed]",
      "text/plain": [
       "<Figure size 432x288 with 1 Axes>"
      ]
     },
     "metadata": {
      "needs_background": "light"
     },
     "output_type": "display_data"
    }
   ],
   "source": [
    "plt.scatter (x = train [[\"VS_diastolic BP\"]], y = train [\"VS_Systolic BP\"], color = \"blue\")\n",
    "plt.plot (train_x, regr.coef_[0][0]*train_x + regr.intercept_[0], \"-r\")\n",
    "plt.xlabel (\"DBP\")\n",
    "plt.ylabel (\"SBP\")"
   ]
  },
  {
   "cell_type": "markdown",
   "id": "f9db0610",
   "metadata": {},
   "source": [
    "## test imputation\n",
    "\n",
    "- I should imput all columns before splitting\n"
   ]
  },
  {
   "cell_type": "code",
   "execution_count": 187,
   "id": "f7199b20",
   "metadata": {},
   "outputs": [
    {
     "name": "stderr",
     "output_type": "stream",
     "text": [
      "C:\\Users\\Hossein Toreyhi\\AppData\\Local\\Temp\\ipykernel_13160\\3243426542.py:5: SettingWithCopyWarning: \n",
      "A value is trying to be set on a copy of a slice from a DataFrame.\n",
      "Try using .loc[row_indexer,col_indexer] = value instead\n",
      "\n",
      "See the caveats in the documentation: https://pandas.pydata.org/pandas-docs/stable/user_guide/indexing.html#returning-a-view-versus-a-copy\n",
      "  test[[\"VS_diastolic BP\", \"VS_Systolic BP\"]] = imp.transform(test[[\"VS_diastolic BP\", \"VS_Systolic BP\"]])\n"
     ]
    }
   ],
   "source": [
    "from sklearn.impute import SimpleImputer\n",
    "imp = SimpleImputer(missing_values=np.nan, strategy='mean')\n",
    "\n",
    "imp.fit(test [[\"VS_diastolic BP\",\"VS_Systolic BP\"]])\n",
    "test[[\"VS_diastolic BP\", \"VS_Systolic BP\"]] = imp.transform(test[[\"VS_diastolic BP\", \"VS_Systolic BP\"]])"
   ]
  },
  {
   "cell_type": "markdown",
   "id": "a1b82871",
   "metadata": {},
   "source": [
    "# Let's Test model \n",
    "\n",
    "- we are going to find MAE, MSW and R2 score\n",
    "- if you don't know what are these, read your notes again\n"
   ]
  },
  {
   "cell_type": "code",
   "execution_count": 188,
   "id": "bb02d5ed",
   "metadata": {},
   "outputs": [
    {
     "name": "stdout",
     "output_type": "stream",
     "text": [
      "MAE = 8.57 \n",
      "MSE = 166.49 \n",
      "R2 score = 0.46\n"
     ]
    }
   ],
   "source": [
    "from sklearn.metrics import r2_score\n",
    "\n",
    "test_x = np.asanyarray (test [[\"VS_diastolic BP\"]])\n",
    "test_y = np.asanyarray (test [[\"VS_Systolic BP\"]])\n",
    "test_y_ = regr.predict (test_x)\n",
    "\n",
    "print (\"MAE = %.2f \" % np.mean (np.absolute (test_y_ - test_y)))\n",
    "print (\"MSE = %.2f \" % np.mean ((test_y_ - test_y)**2))\n",
    "print (\"R2 score = %.2f\" % r2_score (test_y , test_y_))"
   ]
  },
  {
   "cell_type": "code",
   "execution_count": 189,
   "id": "cfd7d2ac",
   "metadata": {},
   "outputs": [
    {
     "data": {
      "text/plain": [
       "Text(0, 0.5, 'SBP')"
      ]
     },
     "execution_count": 189,
     "metadata": {},
     "output_type": "execute_result"
    },
    {
     "data": {
      "image/png": "[encoded data removed]",
      "text/plain": [
       "<Figure size 432x288 with 1 Axes>"
      ]
     },
     "metadata": {
      "needs_background": "light"
     },
     "output_type": "display_data"
    }
   ],
   "source": [
    "plt.scatter (x = train [[\"VS_diastolic BP\"]], y = train [\"VS_Systolic BP\"], color = \"blue\")\n",
    "plt.scatter (x = test [[\"VS_diastolic BP\"]], y = test [\"VS_Systolic BP\"], color = \"green\")\n",
    "plt.plot (train_x, regr.coef_[0][0]*train_x + regr.intercept_[0], \"-r\")\n",
    "plt.xlabel (\"DBP\")\n",
    "plt.ylabel (\"SBP\")"
   ]
  }
 ],
 "metadata": {
  "kernelspec": {
   "display_name": "Python 3 (ipykernel)",
   "language": "python",
   "name": "python3"
  },
  "language_info": {
   "codemirror_mode": {
    "name": "ipython",
    "version": 3
   },
   "file_extension": ".py",
   "mimetype": "text/x-python",
   "name": "python",
   "nbconvert_exporter": "python",
   "pygments_lexer": "ipython3",
   "version": "3.10.4"
  }
 },
 "nbformat": 4,
 "nbformat_minor": 5
}
