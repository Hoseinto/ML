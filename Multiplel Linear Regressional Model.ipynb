{
 "cells": [
  {
   "cell_type": "markdown",
   "id": "dcf8482f",
   "metadata": {},
   "source": [
    "# Multiplel Linear Regressional Model\n",
    "\n",
    "Here you can find : \n",
    "\n",
    "- How to develople a multiple regressional model"
   ]
  },
  {
   "cell_type": "markdown",
   "id": "194ecd6a",
   "metadata": {},
   "source": [
    "### import libraries"
   ]
  },
  {
   "cell_type": "code",
   "execution_count": 41,
   "id": "8011e65b",
   "metadata": {},
   "outputs": [],
   "source": [
    "import pandas as pd\n",
    "import numpy as np\n",
    "import matplotlib.pyplot as plt\n",
    "import pylab as pl\n",
    "%matplotlib inline"
   ]
  },
  {
   "cell_type": "markdown",
   "id": "80d8cfd9",
   "metadata": {},
   "source": [
    "# Convert CSV to DataFrame\n",
    "\n",
    "\n",
    "- lets turn our CSV file into a pandas DataFrame \n"
   ]
  },
  {
   "cell_type": "code",
   "execution_count": 42,
   "id": "e4a43028",
   "metadata": {
    "scrolled": true
   },
   "outputs": [
    {
     "name": "stderr",
     "output_type": "stream",
     "text": [
      "C:\\Users\\Hossein Toreyhi\\AppData\\Local\\Temp\\ipykernel_7192\\320169126.py:1: DtypeWarning: Columns (5,7,9,10,12,13,14,15,16,17,18,19,20,24,25,26,32,33,36,37,41,44,45,48,49,50,52,53,54,56,57,58,59,61,63,64,65,69,74,76,78,79,81,83,84,85,86,87,88,90,93,94,95,96,97,98,99,100,102,103,104,105,106,107,108,109,110,113,114,116,117,119,120,122,123,124,125,126,127,128,129,130,131,132,133,134,135,136,137,138,139,140,141,142,143,144,145,146,147,148,149,153,157,158,159,160,161,162,163,164,165,166,167,168,169,170,171,172,173,174,175,176,177,178,179,180,181,182,183,184,185,186,187,188,189,190,191,193,194,195,196,198,199,200,201,202,203,204,205,206,207,208,209,210,211,212,213,214,215,216,217,218,219,220,221,222,223,224,225,226,227,228,229,230,231,232,233,234,235,236,237,238,243,244,245,246,247,248,249,250,251,252,253,254,255,256,257,258,259,260,261,262,263,264,265,266,267,268,269,270,271,272,273,274,275,276,277,279,280,281,282,283,284,285,287,288,289,290,291,292,293,295,296,297,298,299,300,301,305,306,307,308,310,311,312,313,314,315,316,317,318,321,322,323,324,326,327) have mixed types. Specify dtype option on import or set low_memory=False.\n",
      "  Data = pd.read_csv (\"COVID.csv\")\n"
     ]
    },
    {
     "data": {
      "text/html": [
       "<div>\n",
       "<style scoped>\n",
       "    .dataframe tbody tr th:only-of-type {\n",
       "        vertical-align: middle;\n",
       "    }\n",
       "\n",
       "    .dataframe tbody tr th {\n",
       "        vertical-align: top;\n",
       "    }\n",
       "\n",
       "    .dataframe thead th {\n",
       "        text-align: right;\n",
       "    }\n",
       "</style>\n",
       "<table border=\"1\" class=\"dataframe\">\n",
       "  <thead>\n",
       "    <tr style=\"text-align: right;\">\n",
       "      <th></th>\n",
       "      <th>Patient_Number</th>\n",
       "      <th>Patient_Phase</th>\n",
       "      <th>Patient_Hospital</th>\n",
       "      <th>Patient_AdmitDate</th>\n",
       "      <th>Patient_DischargeDate</th>\n",
       "      <th>Patient_C19Variant</th>\n",
       "      <th>Outcome_InhospitalMortality</th>\n",
       "      <th>Outcome_LOS</th>\n",
       "      <th>Outcome_ICUadmission</th>\n",
       "      <th>Outcome_ICULOS</th>\n",
       "      <th>...</th>\n",
       "      <th>LAB_TotalProtein_First</th>\n",
       "      <th>LAB_TSH_First</th>\n",
       "      <th>LAB_T4_First</th>\n",
       "      <th>LAB_T3_First</th>\n",
       "      <th>LAB_VitD3_First</th>\n",
       "      <th>LAB_Zinc_y_First</th>\n",
       "      <th>LAB_IgM_First</th>\n",
       "      <th>LAB_IgG_First</th>\n",
       "      <th>LAB_SARSCOV2Egene_First</th>\n",
       "      <th>LAB_SARSCOV2RDRP_First</th>\n",
       "    </tr>\n",
       "  </thead>\n",
       "  <tbody>\n",
       "    <tr>\n",
       "      <th>0</th>\n",
       "      <td>1</td>\n",
       "      <td>Phase 2</td>\n",
       "      <td>Hospital1</td>\n",
       "      <td>1400/05/21</td>\n",
       "      <td>NaN</td>\n",
       "      <td>Delta</td>\n",
       "      <td>Died</td>\n",
       "      <td>30</td>\n",
       "      <td>1</td>\n",
       "      <td>25</td>\n",
       "      <td>...</td>\n",
       "      <td>NaN</td>\n",
       "      <td>NaN</td>\n",
       "      <td>NaN</td>\n",
       "      <td>NaN</td>\n",
       "      <td>11.2</td>\n",
       "      <td>NaN</td>\n",
       "      <td>NaN</td>\n",
       "      <td>NaN</td>\n",
       "      <td>Positive</td>\n",
       "      <td>Positive CT:28.5</td>\n",
       "    </tr>\n",
       "    <tr>\n",
       "      <th>1</th>\n",
       "      <td>2</td>\n",
       "      <td>Phase 2</td>\n",
       "      <td>Hospital1</td>\n",
       "      <td>1400/05/29</td>\n",
       "      <td>NaN</td>\n",
       "      <td>Delta</td>\n",
       "      <td>Died</td>\n",
       "      <td>19</td>\n",
       "      <td>1</td>\n",
       "      <td>15</td>\n",
       "      <td>...</td>\n",
       "      <td>NaN</td>\n",
       "      <td>NaN</td>\n",
       "      <td>NaN</td>\n",
       "      <td>NaN</td>\n",
       "      <td>NaN</td>\n",
       "      <td>NaN</td>\n",
       "      <td>NaN</td>\n",
       "      <td>NaN</td>\n",
       "      <td>Positive</td>\n",
       "      <td>Positive CT:18.0</td>\n",
       "    </tr>\n",
       "    <tr>\n",
       "      <th>2</th>\n",
       "      <td>3</td>\n",
       "      <td>Phase 2</td>\n",
       "      <td>Hospital1</td>\n",
       "      <td>1400/06/17</td>\n",
       "      <td>NaN</td>\n",
       "      <td>Delta</td>\n",
       "      <td>Died</td>\n",
       "      <td>12</td>\n",
       "      <td>1</td>\n",
       "      <td>11</td>\n",
       "      <td>...</td>\n",
       "      <td>NaN</td>\n",
       "      <td>NaN</td>\n",
       "      <td>NaN</td>\n",
       "      <td>NaN</td>\n",
       "      <td>39.9</td>\n",
       "      <td>NaN</td>\n",
       "      <td>NaN</td>\n",
       "      <td>NaN</td>\n",
       "      <td>NaN</td>\n",
       "      <td>NaN</td>\n",
       "    </tr>\n",
       "    <tr>\n",
       "      <th>3</th>\n",
       "      <td>4</td>\n",
       "      <td>Phase 2</td>\n",
       "      <td>Hospital1</td>\n",
       "      <td>1400/02/04</td>\n",
       "      <td>NaN</td>\n",
       "      <td>NaN</td>\n",
       "      <td>Survived</td>\n",
       "      <td>18</td>\n",
       "      <td>1</td>\n",
       "      <td>9</td>\n",
       "      <td>...</td>\n",
       "      <td>NaN</td>\n",
       "      <td>NaN</td>\n",
       "      <td>NaN</td>\n",
       "      <td>NaN</td>\n",
       "      <td>NaN</td>\n",
       "      <td>NaN</td>\n",
       "      <td>NaN</td>\n",
       "      <td>NaN</td>\n",
       "      <td>Positive</td>\n",
       "      <td>Positive CT:20.9</td>\n",
       "    </tr>\n",
       "    <tr>\n",
       "      <th>4</th>\n",
       "      <td>5</td>\n",
       "      <td>Phase 2</td>\n",
       "      <td>Hospital1</td>\n",
       "      <td>1400/02/04</td>\n",
       "      <td>NaN</td>\n",
       "      <td>NaN</td>\n",
       "      <td>Survived</td>\n",
       "      <td>18</td>\n",
       "      <td>1</td>\n",
       "      <td>9</td>\n",
       "      <td>...</td>\n",
       "      <td>NaN</td>\n",
       "      <td>NaN</td>\n",
       "      <td>NaN</td>\n",
       "      <td>NaN</td>\n",
       "      <td>NaN</td>\n",
       "      <td>NaN</td>\n",
       "      <td>NaN</td>\n",
       "      <td>NaN</td>\n",
       "      <td>Positive</td>\n",
       "      <td>Positive CT:20.9</td>\n",
       "    </tr>\n",
       "  </tbody>\n",
       "</table>\n",
       "<p>5 rows × 330 columns</p>\n",
       "</div>"
      ],
      "text/plain": [
       "   Patient_Number Patient_Phase Patient_Hospital Patient_AdmitDate  \\\n",
       "0               1       Phase 2        Hospital1        1400/05/21   \n",
       "1               2       Phase 2        Hospital1        1400/05/29   \n",
       "2               3       Phase 2        Hospital1        1400/06/17   \n",
       "3               4       Phase 2        Hospital1        1400/02/04   \n",
       "4               5       Phase 2        Hospital1        1400/02/04   \n",
       "\n",
       "  Patient_DischargeDate Patient_C19Variant Outcome_InhospitalMortality  \\\n",
       "0                   NaN              Delta                        Died   \n",
       "1                   NaN              Delta                        Died   \n",
       "2                   NaN              Delta                        Died   \n",
       "3                   NaN                NaN                    Survived   \n",
       "4                   NaN                NaN                    Survived   \n",
       "\n",
       "  Outcome_LOS  Outcome_ICUadmission Outcome_ICULOS  ...  \\\n",
       "0          30                     1             25  ...   \n",
       "1          19                     1             15  ...   \n",
       "2          12                     1             11  ...   \n",
       "3          18                     1              9  ...   \n",
       "4          18                     1              9  ...   \n",
       "\n",
       "  LAB_TotalProtein_First LAB_TSH_First LAB_T4_First LAB_T3_First  \\\n",
       "0                    NaN           NaN          NaN          NaN   \n",
       "1                    NaN           NaN          NaN          NaN   \n",
       "2                    NaN           NaN          NaN          NaN   \n",
       "3                    NaN           NaN          NaN          NaN   \n",
       "4                    NaN           NaN          NaN          NaN   \n",
       "\n",
       "  LAB_VitD3_First LAB_Zinc_y_First LAB_IgM_First LAB_IgG_First  \\\n",
       "0            11.2              NaN           NaN           NaN   \n",
       "1             NaN              NaN           NaN           NaN   \n",
       "2            39.9              NaN           NaN           NaN   \n",
       "3             NaN              NaN           NaN           NaN   \n",
       "4             NaN              NaN           NaN           NaN   \n",
       "\n",
       "  LAB_SARSCOV2Egene_First LAB_SARSCOV2RDRP_First  \n",
       "0                Positive       Positive CT:28.5  \n",
       "1                Positive       Positive CT:18.0  \n",
       "2                     NaN                    NaN  \n",
       "3                Positive       Positive CT:20.9  \n",
       "4                Positive       Positive CT:20.9  \n",
       "\n",
       "[5 rows x 330 columns]"
      ]
     },
     "execution_count": 42,
     "metadata": {},
     "output_type": "execute_result"
    }
   ],
   "source": [
    "Data = pd.read_csv (\"COVID.csv\")\n",
    "Data.head ()"
   ]
  },
  {
   "cell_type": "markdown",
   "id": "10242108",
   "metadata": {},
   "source": [
    "## Make DataFrame Smaller"
   ]
  },
  {
   "cell_type": "code",
   "execution_count": 43,
   "id": "04711368",
   "metadata": {},
   "outputs": [],
   "source": [
    "list = [\"VS_O2satwithoutsupp\", \"VS_PR\", \"VS_Systolic BP\",\"VS_RR\", \"VS_T\"]\n",
    "cdf = Data [list]"
   ]
  },
  {
   "cell_type": "markdown",
   "id": "a51c4254",
   "metadata": {},
   "source": [
    "## Imputaion \n",
    "\n",
    "- we will use mean as missing data"
   ]
  },
  {
   "cell_type": "code",
   "execution_count": 44,
   "id": "0d63f41c",
   "metadata": {},
   "outputs": [
    {
     "name": "stderr",
     "output_type": "stream",
     "text": [
      "C:\\Users\\Hossein Toreyhi\\AppData\\Local\\Temp\\ipykernel_7192\\2651586274.py:5: SettingWithCopyWarning: \n",
      "A value is trying to be set on a copy of a slice from a DataFrame.\n",
      "Try using .loc[row_indexer,col_indexer] = value instead\n",
      "\n",
      "See the caveats in the documentation: https://pandas.pydata.org/pandas-docs/stable/user_guide/indexing.html#returning-a-view-versus-a-copy\n",
      "  cdf [list] = imp.transform(cdf[list])\n"
     ]
    }
   ],
   "source": [
    "from sklearn.impute import SimpleImputer\n",
    "imp = SimpleImputer(missing_values=np.nan, strategy='mean')\n",
    "\n",
    "imp.fit(cdf [list])\n",
    "cdf [list] = imp.transform(cdf[list])\n"
   ]
  },
  {
   "cell_type": "markdown",
   "id": "1b9a3adf",
   "metadata": {},
   "source": [
    "## Splitting data"
   ]
  },
  {
   "cell_type": "code",
   "execution_count": 45,
   "id": "413b2326",
   "metadata": {},
   "outputs": [],
   "source": [
    "msk = np.random.rand (len (cdf)) < 0.8\n",
    "train = cdf [msk]\n",
    "test = cdf [~msk]"
   ]
  },
  {
   "cell_type": "markdown",
   "id": "d710beef",
   "metadata": {},
   "source": [
    "# Model Training\n",
    "\n",
    "- Here we gonna create a multiple linear regressional model"
   ]
  },
  {
   "cell_type": "code",
   "execution_count": 46,
   "id": "13200ede",
   "metadata": {},
   "outputs": [
    {
     "name": "stdout",
     "output_type": "stream",
     "text": [
      "[[-0.04861723  0.00153993 -0.13771179  0.01701975]]\n",
      "[93.67358339]\n"
     ]
    }
   ],
   "source": [
    "from sklearn import linear_model\n",
    "\n",
    "regr = linear_model.LinearRegression ()\n",
    "\n",
    "x = np.asanyarray (train [[\"VS_PR\", \"VS_Systolic BP\",\"VS_RR\", \"VS_T\"]])\n",
    "\n",
    "y = np.asanyarray (train [[\"VS_O2satwithoutsupp\"]])\n",
    "\n",
    "regr.fit (x,y)\n",
    "\n",
    "print (regr.coef_)\n",
    "\n",
    "print (regr.intercept_)"
   ]
  },
  {
   "cell_type": "markdown",
   "id": "55230617",
   "metadata": {},
   "source": [
    "# Model Tuning\n",
    "\n",
    "- There is 20% untrained date, Let's see how horrible we are ..."
   ]
  },
  {
   "cell_type": "code",
   "execution_count": 48,
   "id": "d227ed0b",
   "metadata": {},
   "outputs": [
    {
     "name": "stdout",
     "output_type": "stream",
     "text": [
      "Variant score :  0.01595295691300036\n",
      "RSC : 7666.11626396668\n"
     ]
    },
    {
     "name": "stderr",
     "output_type": "stream",
     "text": [
      "C:\\Users\\Hossein Toreyhi\\AppData\\Roaming\\Python\\Python310\\site-packages\\sklearn\\base.py:432: UserWarning: X has feature names, but LinearRegression was fitted without feature names\n",
      "  warnings.warn(\n"
     ]
    }
   ],
   "source": [
    "y_hat = regr.predict (test [[\"VS_PR\", \"VS_Systolic BP\",\"VS_RR\", \"VS_T\"]])\n",
    "x = x = np.asanyarray (train [[\"VS_PR\", \"VS_Systolic BP\",\"VS_RR\", \"VS_T\"]])\n",
    "y = np.asanyarray (train [[\"VS_O2satwithoutsupp\"]])\n",
    "\n",
    "print (\"Variant score : \", regr.score (x,y))\n",
    "print (\"RSC :\", np.mean ((y_hat)**2))"
   ]
  }
 ],
 "metadata": {
  "kernelspec": {
   "display_name": "Python 3 (ipykernel)",
   "language": "python",
   "name": "python3"
  },
  "language_info": {
   "codemirror_mode": {
    "name": "ipython",
    "version": 3
   },
   "file_extension": ".py",
   "mimetype": "text/x-python",
   "name": "python",
   "nbconvert_exporter": "python",
   "pygments_lexer": "ipython3",
   "version": "3.10.4"
  }
 },
 "nbformat": 4,
 "nbformat_minor": 5
}
