{
 "cells": [
  {
   "cell_type": "markdown",
   "id": "5c520361",
   "metadata": {},
   "source": [
    "# Support vector machine (SVM)\n",
    "\n",
    "- Another repetitive code this time with a new method\n",
    "- I'll try to do it better every time.\n",
    "- Supplementary are available in my notebook, for further knowledge or any question, please contact : hoseinto@gmail.com"
   ]
  },
  {
   "cell_type": "code",
   "execution_count": 1,
   "id": "c660ed64",
   "metadata": {},
   "outputs": [],
   "source": [
    "import pandas as pd\n",
    "import numpy as np\n",
    "import pylab as pl\n",
    "import matplotlib.pyplot as plt\n",
    "from sklearn import preprocessing \n",
    "from sklearn.model_selection import train_test_split\n",
    "import scipy.optimize as opt"
   ]
  },
  {
   "cell_type": "markdown",
   "id": "b36101fa",
   "metadata": {},
   "source": [
    "## 1) Read CSV file and dealing with missing values\n",
    "\n",
    "- Let's do it all in one stage"
   ]
  },
  {
   "cell_type": "code",
   "execution_count": 6,
   "id": "96408ab7",
   "metadata": {},
   "outputs": [
    {
     "name": "stdout",
     "output_type": "stream",
     "text": [
      "Hospital1    4784\n",
      "Hospital3    1749\n",
      "Hospital2    1429\n",
      "Hospital4    1172\n",
      "Name: Patient_Hospital, dtype: int64\n",
      "Survived    7239\n",
      "Died        1816\n",
      "Unknown       79\n",
      "Name: Outcome_InhospitalMortality, dtype: int64\n",
      "50.000     205\n",
      "65.000     200\n",
      "60.000     192\n",
      "67.000     189\n",
      "62.000     184\n",
      "          ... \n",
      "798.000      1\n",
      "0.250        1\n",
      "9.000        1\n",
      "0.125        1\n",
      "0.170        1\n",
      "Name: Demographic_Age, Length: 103, dtype: int64\n",
      "Male      4942\n",
      "Female    4132\n",
      "1           35\n",
      "2           24\n",
      "0            1\n",
      "Name: Demographic_Gender, dtype: int64\n",
      "0.0    8404\n",
      "1.0     729\n",
      "Name: Symptom_LOC, dtype: int64\n",
      "0    8315\n",
      "1     819\n",
      "Name: Symptom_ChestPain, dtype: int64\n",
      "0    8679\n",
      "1     455\n",
      "Name: MH_CurremtSmoker, dtype: int64\n",
      "0    6113\n",
      "0    1782\n",
      "1     973\n",
      "1     265\n",
      "١       1\n",
      "Name: MH_IHD, dtype: int64\n",
      "90.0    654\n",
      "88.0    565\n",
      "92.0    526\n",
      "95.0    514\n",
      "93.0    499\n",
      "       ... \n",
      "42.0      1\n",
      "34.0      1\n",
      "87.5      1\n",
      "36.0      1\n",
      "37.0      1\n",
      "Name: VS_O2satwithoutsupp, Length: 76, dtype: int64\n",
      "Patient_Hospital                  0\n",
      "Outcome_InhospitalMortality       0\n",
      "Demographic_Age                   2\n",
      "Demographic_Gender                0\n",
      "Symptom_LOC                       1\n",
      "Symptom_ChestPain                 0\n",
      "MH_CurremtSmoker                  0\n",
      "MH_IHD                            0\n",
      "VS_O2satwithoutsupp            1741\n",
      "dtype: int64\n"
     ]
    },
    {
     "name": "stderr",
     "output_type": "stream",
     "text": [
      "C:\\Users\\Hossein Toreyhi\\AppData\\Local\\Temp\\ipykernel_14048\\3148314477.py:1: DtypeWarning: Columns (5,9,12,13,14,18,19,20,24,25,32,33,36,37,41,44,45,48,49,50,52,53,54,56,57,58,59,61,63,64,65,69,74,76,78,79,81,83,84,85,86,87,88,90,93,94,95,96,97,98,99,100,102,103,104,105,106,107,108,109,110,113,114,116,117,119,120,122,123,124,125,126,127,128,129,130,131,132,133,134,135,136,137,138,139,140,141,142,143,144,145,146,147,148,149,153,157,158,159,160,161,162,163,164,165,166,167,168,169,170,171,172,173,174,175,176,177,178,179,180,181,182,183,184,185,186,187,188,189,190,191,193,194,195,196,198,199,200,201,202,203,204,205,206,207,208,209,210,211,212,213,214,215,216,217,218,219,220,221,222,223,224,225,226,227,228,229,230,231,232,233,234,235,236,237,238,243,244,245,246,247,248,249,250,251,252,253,254,255,256,257,258,259,260,261,262,263,264,265,266,267,268,269,270,271,272,273,274,275,276,277,279,280,281,282,283,284,285,287,288,289,290,291,292,293,295,296,297,298,299,300,301,305,306,307,308,310,311,312,313,314,315,316,317,318,321,322,323,324,326,327) have mixed types. Specify dtype option on import or set low_memory=False.\n",
      "  Data = pd.read_csv (\"COVID.csv\")\n"
     ]
    }
   ],
   "source": [
    "Data = pd.read_csv (\"COVID.csv\")\n",
    "list_of_variables = ['Patient_Hospital', 'Outcome_InhospitalMortality', \n",
    "                     'Demographic_Age', 'Demographic_Gender',\n",
    "                     'Symptom_LOC','Symptom_ChestPain', 'MH_CurremtSmoker', 'MH_IHD','VS_O2satwithoutsupp']\n",
    "cdf = Data [list_of_variables]\n",
    "\n",
    "for i in range (0, len (list_of_variables)):\n",
    "    print (cdf [list_of_variables[i]].value_counts())\n",
    "    \n",
    "missing_counts = cdf.isnull().sum()\n",
    "print(missing_counts)"
   ]
  },
  {
   "cell_type": "code",
   "execution_count": 7,
   "id": "b85bc268",
   "metadata": {},
   "outputs": [
    {
     "name": "stderr",
     "output_type": "stream",
     "text": [
      "C:\\Users\\Hossein Toreyhi\\AppData\\Local\\Temp\\ipykernel_14048\\1854485196.py:3: SettingWithCopyWarning: \n",
      "A value is trying to be set on a copy of a slice from a DataFrame\n",
      "\n",
      "See the caveats in the documentation: https://pandas.pydata.org/pandas-docs/stable/user_guide/indexing.html#returning-a-view-versus-a-copy\n",
      "  cdf.dropna(subset= [\"Patient_Hospital\"], inplace=True)\n",
      "C:\\Users\\Hossein Toreyhi\\AppData\\Local\\Temp\\ipykernel_14048\\1854485196.py:4: SettingWithCopyWarning: \n",
      "A value is trying to be set on a copy of a slice from a DataFrame.\n",
      "Try using .loc[row_indexer,col_indexer] = value instead\n",
      "\n",
      "See the caveats in the documentation: https://pandas.pydata.org/pandas-docs/stable/user_guide/indexing.html#returning-a-view-versus-a-copy\n",
      "  cdf [\"Patient_Hospital\"] = pd.factorize( cdf [\"Patient_Hospital\"])[0]\n",
      "C:\\Users\\Hossein Toreyhi\\AppData\\Local\\Temp\\ipykernel_14048\\1854485196.py:9: SettingWithCopyWarning: \n",
      "A value is trying to be set on a copy of a slice from a DataFrame.\n",
      "Try using .loc[row_indexer,col_indexer] = value instead\n",
      "\n",
      "See the caveats in the documentation: https://pandas.pydata.org/pandas-docs/stable/user_guide/indexing.html#returning-a-view-versus-a-copy\n",
      "  cdf [\"Outcome_InhospitalMortality\"] = cdf [\"Outcome_InhospitalMortality\"].replace(outcome_map)\n",
      "C:\\Users\\Hossein Toreyhi\\AppData\\Local\\Temp\\ipykernel_14048\\1854485196.py:10: SettingWithCopyWarning: \n",
      "A value is trying to be set on a copy of a slice from a DataFrame\n",
      "\n",
      "See the caveats in the documentation: https://pandas.pydata.org/pandas-docs/stable/user_guide/indexing.html#returning-a-view-versus-a-copy\n",
      "  cdf.dropna(subset= [\"Outcome_InhospitalMortality\"], inplace=True)\n"
     ]
    },
    {
     "name": "stdout",
     "output_type": "stream",
     "text": [
      "Patient_Hospital               0\n",
      "Outcome_InhospitalMortality    0\n",
      "Demographic_Age                0\n",
      "Demographic_Gender             0\n",
      "Symptom_LOC                    0\n",
      "Symptom_ChestPain              0\n",
      "MH_CurremtSmoker               0\n",
      "MH_IHD                         0\n",
      "VS_O2satwithoutsupp            0\n",
      "dtype: int64\n"
     ]
    },
    {
     "name": "stderr",
     "output_type": "stream",
     "text": [
      "C:\\Users\\Hossein Toreyhi\\AppData\\Local\\Temp\\ipykernel_14048\\1854485196.py:17: SettingWithCopyWarning: \n",
      "A value is trying to be set on a copy of a slice from a DataFrame.\n",
      "Try using .loc[row_indexer,col_indexer] = value instead\n",
      "\n",
      "See the caveats in the documentation: https://pandas.pydata.org/pandas-docs/stable/user_guide/indexing.html#returning-a-view-versus-a-copy\n",
      "  cdf[['Demographic_Age', 'VS_O2satwithoutsupp']] = imp.transform(cdf[['Demographic_Age', 'VS_O2satwithoutsupp']])\n",
      "C:\\Users\\Hossein Toreyhi\\AppData\\Local\\Temp\\ipykernel_14048\\1854485196.py:22: SettingWithCopyWarning: \n",
      "A value is trying to be set on a copy of a slice from a DataFrame.\n",
      "Try using .loc[row_indexer,col_indexer] = value instead\n",
      "\n",
      "See the caveats in the documentation: https://pandas.pydata.org/pandas-docs/stable/user_guide/indexing.html#returning-a-view-versus-a-copy\n",
      "  cdf [\"Demographic_Gender\"] = cdf [\"Demographic_Gender\"].replace(sex_map)\n",
      "C:\\Users\\Hossein Toreyhi\\AppData\\Local\\Temp\\ipykernel_14048\\1854485196.py:23: SettingWithCopyWarning: \n",
      "A value is trying to be set on a copy of a slice from a DataFrame\n",
      "\n",
      "See the caveats in the documentation: https://pandas.pydata.org/pandas-docs/stable/user_guide/indexing.html#returning-a-view-versus-a-copy\n",
      "  cdf.dropna(subset=[\"Demographic_Gender\"], inplace=True)\n",
      "C:\\Users\\Hossein Toreyhi\\AppData\\Local\\Temp\\ipykernel_14048\\1854485196.py:24: SettingWithCopyWarning: \n",
      "A value is trying to be set on a copy of a slice from a DataFrame.\n",
      "Try using .loc[row_indexer,col_indexer] = value instead\n",
      "\n",
      "See the caveats in the documentation: https://pandas.pydata.org/pandas-docs/stable/user_guide/indexing.html#returning-a-view-versus-a-copy\n",
      "  cdf [\"Demographic_Gender\"] = pd.factorize( cdf [\"Demographic_Gender\"])[0]\n",
      "C:\\Users\\Hossein Toreyhi\\AppData\\Local\\Temp\\ipykernel_14048\\1854485196.py:29: SettingWithCopyWarning: \n",
      "A value is trying to be set on a copy of a slice from a DataFrame.\n",
      "Try using .loc[row_indexer,col_indexer] = value instead\n",
      "\n",
      "See the caveats in the documentation: https://pandas.pydata.org/pandas-docs/stable/user_guide/indexing.html#returning-a-view-versus-a-copy\n",
      "  cdf [\"Symptom_LOC\"] = cdf [\"Symptom_LOC\"].astype (float)\n",
      "C:\\Users\\Hossein Toreyhi\\AppData\\Local\\Temp\\ipykernel_14048\\1854485196.py:30: SettingWithCopyWarning: \n",
      "A value is trying to be set on a copy of a slice from a DataFrame\n",
      "\n",
      "See the caveats in the documentation: https://pandas.pydata.org/pandas-docs/stable/user_guide/indexing.html#returning-a-view-versus-a-copy\n",
      "  cdf.dropna(subset=[\"Symptom_LOC\"], inplace=True)\n",
      "C:\\Users\\Hossein Toreyhi\\AppData\\Local\\Temp\\ipykernel_14048\\1854485196.py:34: SettingWithCopyWarning: \n",
      "A value is trying to be set on a copy of a slice from a DataFrame\n",
      "\n",
      "See the caveats in the documentation: https://pandas.pydata.org/pandas-docs/stable/user_guide/indexing.html#returning-a-view-versus-a-copy\n",
      "  cdf.dropna(subset=[\"Symptom_ChestPain\"], inplace=True)\n",
      "C:\\Users\\Hossein Toreyhi\\AppData\\Local\\Temp\\ipykernel_14048\\1854485196.py:35: SettingWithCopyWarning: \n",
      "A value is trying to be set on a copy of a slice from a DataFrame.\n",
      "Try using .loc[row_indexer,col_indexer] = value instead\n",
      "\n",
      "See the caveats in the documentation: https://pandas.pydata.org/pandas-docs/stable/user_guide/indexing.html#returning-a-view-versus-a-copy\n",
      "  cdf [\"Symptom_ChestPain\"] = cdf [\"Symptom_ChestPain\"].astype (float)\n",
      "C:\\Users\\Hossein Toreyhi\\AppData\\Local\\Temp\\ipykernel_14048\\1854485196.py:39: SettingWithCopyWarning: \n",
      "A value is trying to be set on a copy of a slice from a DataFrame\n",
      "\n",
      "See the caveats in the documentation: https://pandas.pydata.org/pandas-docs/stable/user_guide/indexing.html#returning-a-view-versus-a-copy\n",
      "  cdf.dropna(subset=[\"MH_CurremtSmoker\"], inplace=True)\n",
      "C:\\Users\\Hossein Toreyhi\\AppData\\Local\\Temp\\ipykernel_14048\\1854485196.py:40: SettingWithCopyWarning: \n",
      "A value is trying to be set on a copy of a slice from a DataFrame.\n",
      "Try using .loc[row_indexer,col_indexer] = value instead\n",
      "\n",
      "See the caveats in the documentation: https://pandas.pydata.org/pandas-docs/stable/user_guide/indexing.html#returning-a-view-versus-a-copy\n",
      "  cdf [\"MH_CurremtSmoker\"] = cdf [\"MH_CurremtSmoker\"].astype (float)\n",
      "C:\\Users\\Hossein Toreyhi\\AppData\\Local\\Temp\\ipykernel_14048\\1854485196.py:44: SettingWithCopyWarning: \n",
      "A value is trying to be set on a copy of a slice from a DataFrame\n",
      "\n",
      "See the caveats in the documentation: https://pandas.pydata.org/pandas-docs/stable/user_guide/indexing.html#returning-a-view-versus-a-copy\n",
      "  cdf.dropna(subset=[\"MH_IHD\"], inplace=True)\n",
      "C:\\Users\\Hossein Toreyhi\\AppData\\Local\\Temp\\ipykernel_14048\\1854485196.py:45: SettingWithCopyWarning: \n",
      "A value is trying to be set on a copy of a slice from a DataFrame.\n",
      "Try using .loc[row_indexer,col_indexer] = value instead\n",
      "\n",
      "See the caveats in the documentation: https://pandas.pydata.org/pandas-docs/stable/user_guide/indexing.html#returning-a-view-versus-a-copy\n",
      "  cdf [\"MH_IHD\"] = cdf [\"MH_IHD\"].astype (float)\n"
     ]
    }
   ],
   "source": [
    "# patient hospital\n",
    "\n",
    "cdf.dropna(subset= [\"Patient_Hospital\"], inplace=True)\n",
    "cdf [\"Patient_Hospital\"] = pd.factorize( cdf [\"Patient_Hospital\"])[0]\n",
    "\n",
    "# Outcome_InhospitalMortality\n",
    "\n",
    "outcome_map = {\"Survived\": 0, \"Died\" : 1 , \"Unknown\" : np.nan }\n",
    "cdf [\"Outcome_InhospitalMortality\"] = cdf [\"Outcome_InhospitalMortality\"].replace(outcome_map)\n",
    "cdf.dropna(subset= [\"Outcome_InhospitalMortality\"], inplace=True)\n",
    "\n",
    "# Demographic_Age and 'VS_O2satwithoutsupp'\n",
    "\n",
    "from sklearn.impute import SimpleImputer\n",
    "imp = SimpleImputer(missing_values=np.nan, strategy='mean')\n",
    "imp.fit(cdf [['Demographic_Age', 'VS_O2satwithoutsupp']])\n",
    "cdf[['Demographic_Age', 'VS_O2satwithoutsupp']] = imp.transform(cdf[['Demographic_Age', 'VS_O2satwithoutsupp']])\n",
    "\n",
    "# Demographic_Gender\n",
    "\n",
    "sex_map = {\"1\":\"Male\" , \"2\":\"Female\" , \"0\" : np.nan}\n",
    "cdf [\"Demographic_Gender\"] = cdf [\"Demographic_Gender\"].replace(sex_map)\n",
    "cdf.dropna(subset=[\"Demographic_Gender\"], inplace=True)\n",
    "cdf [\"Demographic_Gender\"] = pd.factorize( cdf [\"Demographic_Gender\"])[0]\n",
    "\n",
    "\n",
    "# Symptom_LOC\n",
    "\n",
    "cdf [\"Symptom_LOC\"] = cdf [\"Symptom_LOC\"].astype (float)\n",
    "cdf.dropna(subset=[\"Symptom_LOC\"], inplace=True)\n",
    "\n",
    "# Symptom_ChestPain\n",
    "\n",
    "cdf.dropna(subset=[\"Symptom_ChestPain\"], inplace=True)\n",
    "cdf [\"Symptom_ChestPain\"] = cdf [\"Symptom_ChestPain\"].astype (float)\n",
    "\n",
    "# MH_CurremtSmoker \n",
    "\n",
    "cdf.dropna(subset=[\"MH_CurremtSmoker\"], inplace=True)\n",
    "cdf [\"MH_CurremtSmoker\"] = cdf [\"MH_CurremtSmoker\"].astype (float)\n",
    "\n",
    "# MH_IHD\n",
    "\n",
    "cdf.dropna(subset=[\"MH_IHD\"], inplace=True)\n",
    "cdf [\"MH_IHD\"] = cdf [\"MH_IHD\"].astype (float)\n",
    "\n",
    "missing_counts = cdf.isnull().sum()\n",
    "print(missing_counts)"
   ]
  },
  {
   "cell_type": "markdown",
   "id": "88f73da3",
   "metadata": {},
   "source": [
    "## 2) Scatter plot\n",
    "\n",
    "- I was thinking this morning about this code and I thought it would be better with an scatter plot showing the outcome in different color to see how much is necessary to use hyperdimension and hyperplane.\n",
    "- God knows ! maybe logistic regression would be enough in the begining.\n",
    "- I'm showing in 2 dimensions, that not enough !"
   ]
  },
  {
   "cell_type": "code",
   "execution_count": 13,
   "id": "89a16d80",
   "metadata": {
    "scrolled": true
   },
   "outputs": [
    {
     "data": {
      "image/png": "[encoded data removed]",
      "text/plain": [
       "<Figure size 432x288 with 1 Axes>"
      ]
     },
     "metadata": {
      "needs_background": "light"
     },
     "output_type": "display_data"
    }
   ],
   "source": [
    "ax = cdf [cdf ['Outcome_InhospitalMortality'] == 0][0:100].plot(kind='scatter', x='Demographic_Age', y='VS_O2satwithoutsupp', color='DarkBlue', label='Survived');\n",
    "cdf [cdf ['Outcome_InhospitalMortality'] == 1][0:100].plot(kind='scatter', x='Demographic_Age', y='VS_O2satwithoutsupp', color='Yellow', label='Died', ax=ax);\n",
    "plt.show()\n"
   ]
  },
  {
   "cell_type": "markdown",
   "id": "e5ad2fea",
   "metadata": {},
   "source": [
    "- fotunatly, it is obvious that we need a hyperplane in a higher dimension to seperate our outcome of interest\n",
    "\n",
    "## 3) Data cleansing and preprocessing"
   ]
  },
  {
   "cell_type": "code",
   "execution_count": 15,
   "id": "409316cc",
   "metadata": {
    "scrolled": true
   },
   "outputs": [
    {
     "data": {
      "text/plain": [
       "Patient_Hospital                 int64\n",
       "Outcome_InhospitalMortality    float64\n",
       "Demographic_Age                float64\n",
       "Demographic_Gender               int64\n",
       "Symptom_LOC                    float64\n",
       "Symptom_ChestPain              float64\n",
       "MH_CurremtSmoker               float64\n",
       "MH_IHD                         float64\n",
       "VS_O2satwithoutsupp            float64\n",
       "dtype: object"
      ]
     },
     "execution_count": 15,
     "metadata": {},
     "output_type": "execute_result"
    }
   ],
   "source": [
    "cdf.dtypes"
   ]
  },
  {
   "cell_type": "markdown",
   "id": "8643edc2",
   "metadata": {},
   "source": [
    "- as you can see, all values are nubmers :))\n",
    "- if there was any object in dtypes, you should use the following code to fix it : \n"
   ]
  },
  {
   "cell_type": "code",
   "execution_count": 16,
   "id": "08d6beb8",
   "metadata": {},
   "outputs": [],
   "source": [
    "# cdf = cdf[pd.to_numeric(cdf['Name of inappropriate variable'], errors='coerce').notnull()]\n",
    "# cdf['Name of inappropriate variable'] = cdf['Name of inappropriate variable'].astype('int')"
   ]
  },
  {
   "cell_type": "markdown",
   "id": "5c762499",
   "metadata": {},
   "source": [
    "## 4) Data selection and preprocessing\n",
    "\n",
    "- x,y "
   ]
  },
  {
   "cell_type": "code",
   "execution_count": 17,
   "id": "3f9a9faa",
   "metadata": {},
   "outputs": [],
   "source": [
    "x_list = ['Patient_Hospital', 'Demographic_Age', 'Demographic_Gender','Symptom_LOC',\n",
    "          'Symptom_ChestPain', 'MH_CurremtSmoker', 'MH_IHD','VS_O2satwithoutsupp']\n",
    "\n",
    "x = np.asarray (cdf [x_list])\n",
    "x = preprocessing.StandardScaler().fit(x).transform(x)\n",
    "y = np.asarray (cdf ['Outcome_InhospitalMortality'])"
   ]
  },
  {
   "cell_type": "markdown",
   "id": "e30437b6",
   "metadata": {},
   "source": [
    "## 5) Train/test split"
   ]
  },
  {
   "cell_type": "code",
   "execution_count": 18,
   "id": "99ea7e67",
   "metadata": {},
   "outputs": [],
   "source": [
    "x_train, x_test, y_train, y_test = train_test_split (x,y,test_size = 0.2, random_state = 4)"
   ]
  },
  {
   "cell_type": "markdown",
   "id": "a8e1b4cd",
   "metadata": {},
   "source": [
    "## 6) Model training and tuning \n",
    "\n",
    "- kerneling type can be on of the following : 1.Linear  2.Polynomial  3.Radial basis function (RBF)  4.Sigmoid"
   ]
  },
  {
   "cell_type": "code",
   "execution_count": 19,
   "id": "44081db3",
   "metadata": {},
   "outputs": [],
   "source": [
    "from sklearn import svm\n",
    "clf = clf = svm.SVC(kernel='rbf')\n",
    "clf.fit(x_train, y_train)\n",
    "y_hat = clf.predict(x_test)"
   ]
  },
  {
   "cell_type": "markdown",
   "id": "a89aadc0",
   "metadata": {},
   "source": [
    "## 7) Evaluation \n",
    "\n",
    "- confusion matrix\n",
    "- F1 score, precision and recall\n",
    "- LogLoss"
   ]
  },
  {
   "cell_type": "code",
   "execution_count": 20,
   "id": "1911841a",
   "metadata": {
    "scrolled": true
   },
   "outputs": [
    {
     "name": "stdout",
     "output_type": "stream",
     "text": [
      "Confusion matrix, without normalization\n",
      "[[ 110  278]\n",
      " [  59 1364]]\n"
     ]
    },
    {
     "data": {
      "image/png": "[encoded data removed]",
      "text/plain": [
       "<Figure size 432x288 with 2 Axes>"
      ]
     },
     "metadata": {
      "needs_background": "light"
     },
     "output_type": "display_data"
    }
   ],
   "source": [
    "from sklearn.metrics import confusion_matrix\n",
    "import itertools\n",
    "\n",
    "def plot_confusion_matrix(cm, classes,\n",
    "                          normalize=False,\n",
    "                          title='Confusion matrix',\n",
    "                          cmap=plt.cm.Blues):\n",
    "    \"\"\"\n",
    "    This function prints and plots the confusion matrix.\n",
    "    Normalization can be applied by setting `normalize=True`.\n",
    "    \"\"\"\n",
    "    if normalize:\n",
    "        cm = cm.astype('float') / cm.sum(axis=1)[:, np.newaxis]\n",
    "        print(\"Normalized confusion matrix\")\n",
    "    else:\n",
    "        print('Confusion matrix, without normalization')\n",
    "\n",
    "    print(cm)\n",
    "\n",
    "    plt.imshow(cm, interpolation='nearest', cmap=cmap)\n",
    "    plt.title(title)\n",
    "    plt.colorbar()\n",
    "    tick_marks = np.arange(len(classes))\n",
    "    plt.xticks(tick_marks, classes, rotation=45)\n",
    "    plt.yticks(tick_marks, classes)\n",
    "\n",
    "    fmt = '.2f' if normalize else 'd'\n",
    "    thresh = cm.max() / 2.\n",
    "    for i, j in itertools.product(range(cm.shape[0]), range(cm.shape[1])):\n",
    "        plt.text(j, i, format(cm[i, j], fmt),\n",
    "                 horizontalalignment=\"center\",\n",
    "                 color=\"white\" if cm[i, j] > thresh else \"black\")\n",
    "\n",
    "    plt.tight_layout()\n",
    "    plt.ylabel('True label')\n",
    "    plt.xlabel('Predicted label')\n",
    "\n",
    "cnf_matrix = confusion_matrix(y_test, y_hat, labels=[1,0])\n",
    "np.set_printoptions(precision=2)\n",
    "plt.figure()\n",
    "plot_confusion_matrix(cnf_matrix, classes=['1','0'],normalize= False,  title='Confusion matrix')"
   ]
  },
  {
   "cell_type": "code",
   "execution_count": 21,
   "id": "7ea1ca05",
   "metadata": {
    "scrolled": true
   },
   "outputs": [
    {
     "name": "stdout",
     "output_type": "stream",
     "text": [
      "              precision    recall  f1-score   support\n",
      "\n",
      "         0.0       0.83      0.96      0.89      1423\n",
      "         1.0       0.65      0.28      0.39       388\n",
      "\n",
      "    accuracy                           0.81      1811\n",
      "   macro avg       0.74      0.62      0.64      1811\n",
      "weighted avg       0.79      0.81      0.78      1811\n",
      "\n"
     ]
    }
   ],
   "source": [
    "from sklearn.metrics import classification_report\n",
    "print (classification_report(y_test, y_hat))"
   ]
  },
  {
   "cell_type": "code",
   "execution_count": 22,
   "id": "435accb7",
   "metadata": {},
   "outputs": [
    {
     "data": {
      "text/plain": [
       "6.7071845345844725"
      ]
     },
     "execution_count": 22,
     "metadata": {},
     "output_type": "execute_result"
    }
   ],
   "source": [
    "from sklearn.metrics import log_loss\n",
    "log_loss(y_test, y_hat)"
   ]
  }
 ],
 "metadata": {
  "kernelspec": {
   "display_name": "Python 3 (ipykernel)",
   "language": "python",
   "name": "python3"
  },
  "language_info": {
   "codemirror_mode": {
    "name": "ipython",
    "version": 3
   },
   "file_extension": ".py",
   "mimetype": "text/x-python",
   "name": "python",
   "nbconvert_exporter": "python",
   "pygments_lexer": "ipython3",
   "version": "3.10.4"
  }
 },
 "nbformat": 4,
 "nbformat_minor": 5
}
